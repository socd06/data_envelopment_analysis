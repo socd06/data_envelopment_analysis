{
 "cells": [
  {
   "cell_type": "code",
   "execution_count": 1,
   "metadata": {},
   "outputs": [],
   "source": [
    "# rank the obtained results using the *.log files\n",
    "import os\n",
    "import pandas as pd"
   ]
  },
  {
   "cell_type": "code",
   "execution_count": 2,
   "metadata": {},
   "outputs": [],
   "source": [
    "targetdir = '../data/processed/'\n",
    "filelist = sorted(os.listdir(targetdir))"
   ]
  },
  {
   "cell_type": "code",
   "execution_count": 3,
   "metadata": {},
   "outputs": [
    {
     "data": {
      "text/plain": [
       "['1.data', '2.data', '3.data', '4.data', '5.data', '6.data', '7.data']"
      ]
     },
     "execution_count": 3,
     "metadata": {},
     "output_type": "execute_result"
    }
   ],
   "source": [
    "filelist"
   ]
  },
  {
   "cell_type": "code",
   "execution_count": 4,
   "metadata": {},
   "outputs": [],
   "source": [
    "df = pd.DataFrame()"
   ]
  },
  {
   "cell_type": "code",
   "execution_count": 5,
   "metadata": {},
   "outputs": [],
   "source": [
    "for file in filelist:\n",
    "    filename = targetdir+file\n",
    "    col_name = [file]\n",
    "    temp_df = pd.read_csv(filename,names=col_name)    \n",
    "    df = pd.concat([df, temp_df], axis=1)"
   ]
  },
  {
   "cell_type": "code",
   "execution_count": 6,
   "metadata": {},
   "outputs": [
    {
     "data": {
      "text/html": [
       "<div>\n",
       "<style scoped>\n",
       "    .dataframe tbody tr th:only-of-type {\n",
       "        vertical-align: middle;\n",
       "    }\n",
       "\n",
       "    .dataframe tbody tr th {\n",
       "        vertical-align: top;\n",
       "    }\n",
       "\n",
       "    .dataframe thead th {\n",
       "        text-align: right;\n",
       "    }\n",
       "</style>\n",
       "<table border=\"1\" class=\"dataframe\">\n",
       "  <thead>\n",
       "    <tr style=\"text-align: right;\">\n",
       "      <th></th>\n",
       "      <th>1.data</th>\n",
       "      <th>2.data</th>\n",
       "      <th>3.data</th>\n",
       "      <th>4.data</th>\n",
       "      <th>5.data</th>\n",
       "      <th>6.data</th>\n",
       "      <th>7.data</th>\n",
       "    </tr>\n",
       "  </thead>\n",
       "  <tbody>\n",
       "    <tr>\n",
       "      <th>0</th>\n",
       "      <td>1.00</td>\n",
       "      <td>1.00</td>\n",
       "      <td>1.00</td>\n",
       "      <td>1.00</td>\n",
       "      <td>0.73</td>\n",
       "      <td>1.00</td>\n",
       "      <td>1.00</td>\n",
       "    </tr>\n",
       "    <tr>\n",
       "      <th>1</th>\n",
       "      <td>1.06</td>\n",
       "      <td>1.16</td>\n",
       "      <td>0.00</td>\n",
       "      <td>0.00</td>\n",
       "      <td>0.73</td>\n",
       "      <td>0.00</td>\n",
       "      <td>0.00</td>\n",
       "    </tr>\n",
       "    <tr>\n",
       "      <th>2</th>\n",
       "      <td>1.12</td>\n",
       "      <td>1.22</td>\n",
       "      <td>0.00</td>\n",
       "      <td>0.00</td>\n",
       "      <td>0.73</td>\n",
       "      <td>0.00</td>\n",
       "      <td>0.00</td>\n",
       "    </tr>\n",
       "    <tr>\n",
       "      <th>3</th>\n",
       "      <td>0.99</td>\n",
       "      <td>0.83</td>\n",
       "      <td>0.91</td>\n",
       "      <td>0.83</td>\n",
       "      <td>0.63</td>\n",
       "      <td>0.91</td>\n",
       "      <td>1.00</td>\n",
       "    </tr>\n",
       "    <tr>\n",
       "      <th>4</th>\n",
       "      <td>0.99</td>\n",
       "      <td>0.83</td>\n",
       "      <td>0.91</td>\n",
       "      <td>0.83</td>\n",
       "      <td>0.63</td>\n",
       "      <td>0.00</td>\n",
       "      <td>0.00</td>\n",
       "    </tr>\n",
       "    <tr>\n",
       "      <th>...</th>\n",
       "      <td>...</td>\n",
       "      <td>...</td>\n",
       "      <td>...</td>\n",
       "      <td>...</td>\n",
       "      <td>...</td>\n",
       "      <td>...</td>\n",
       "      <td>...</td>\n",
       "    </tr>\n",
       "    <tr>\n",
       "      <th>724</th>\n",
       "      <td>1.06</td>\n",
       "      <td>0.87</td>\n",
       "      <td>0.00</td>\n",
       "      <td>0.00</td>\n",
       "      <td>0.65</td>\n",
       "      <td>0.88</td>\n",
       "      <td>1.01</td>\n",
       "    </tr>\n",
       "    <tr>\n",
       "      <th>725</th>\n",
       "      <td>1.11</td>\n",
       "      <td>0.87</td>\n",
       "      <td>0.00</td>\n",
       "      <td>0.00</td>\n",
       "      <td>0.65</td>\n",
       "      <td>0.00</td>\n",
       "      <td>0.00</td>\n",
       "    </tr>\n",
       "    <tr>\n",
       "      <th>726</th>\n",
       "      <td>1.00</td>\n",
       "      <td>0.74</td>\n",
       "      <td>1.00</td>\n",
       "      <td>1.00</td>\n",
       "      <td>0.54</td>\n",
       "      <td>0.50</td>\n",
       "      <td>1.00</td>\n",
       "    </tr>\n",
       "    <tr>\n",
       "      <th>727</th>\n",
       "      <td>1.00</td>\n",
       "      <td>0.74</td>\n",
       "      <td>1.00</td>\n",
       "      <td>1.00</td>\n",
       "      <td>0.54</td>\n",
       "      <td>0.50</td>\n",
       "      <td>1.00</td>\n",
       "    </tr>\n",
       "    <tr>\n",
       "      <th>728</th>\n",
       "      <td>1.00</td>\n",
       "      <td>0.74</td>\n",
       "      <td>1.00</td>\n",
       "      <td>1.00</td>\n",
       "      <td>0.54</td>\n",
       "      <td>0.50</td>\n",
       "      <td>1.00</td>\n",
       "    </tr>\n",
       "  </tbody>\n",
       "</table>\n",
       "<p>729 rows × 7 columns</p>\n",
       "</div>"
      ],
      "text/plain": [
       "     1.data  2.data  3.data  4.data  5.data  6.data  7.data\n",
       "0      1.00    1.00    1.00    1.00    0.73    1.00    1.00\n",
       "1      1.06    1.16    0.00    0.00    0.73    0.00    0.00\n",
       "2      1.12    1.22    0.00    0.00    0.73    0.00    0.00\n",
       "3      0.99    0.83    0.91    0.83    0.63    0.91    1.00\n",
       "4      0.99    0.83    0.91    0.83    0.63    0.00    0.00\n",
       "..      ...     ...     ...     ...     ...     ...     ...\n",
       "724    1.06    0.87    0.00    0.00    0.65    0.88    1.01\n",
       "725    1.11    0.87    0.00    0.00    0.65    0.00    0.00\n",
       "726    1.00    0.74    1.00    1.00    0.54    0.50    1.00\n",
       "727    1.00    0.74    1.00    1.00    0.54    0.50    1.00\n",
       "728    1.00    0.74    1.00    1.00    0.54    0.50    1.00\n",
       "\n",
       "[729 rows x 7 columns]"
      ]
     },
     "execution_count": 6,
     "metadata": {},
     "output_type": "execute_result"
    }
   ],
   "source": [
    "df"
   ]
  },
  {
   "cell_type": "code",
   "execution_count": 7,
   "metadata": {},
   "outputs": [],
   "source": [
    "# Creating ranked dataframe\n",
    "ranked_df = pd.DataFrame()\n",
    "stats_df = pd.DataFrame()"
   ]
  },
  {
   "cell_type": "code",
   "execution_count": 8,
   "metadata": {},
   "outputs": [
    {
     "data": {
      "text/plain": [
       "729"
      ]
     },
     "execution_count": 8,
     "metadata": {},
     "output_type": "execute_result"
    }
   ],
   "source": [
    "# Creating scenario quantity variable\n",
    "tao = len(df)\n",
    "tao"
   ]
  },
  {
   "cell_type": "code",
   "execution_count": 9,
   "metadata": {},
   "outputs": [
    {
     "name": "stdout",
     "output_type": "stream",
     "text": [
      "WWTP 1 Mean = 1.028 Maximum = 1.4 Minimum = 0.0 Amplitude (max-min)(%) = 140.0\n",
      "WWTP 1 R1k = 0.631 | Sk = 749.71 | R2k = 1.077\n",
      "WWTP 2 Mean = 0.885 Maximum = 1.36 Minimum = 0.7 Amplitude (max-min)(%) = 66.0\n",
      "WWTP 2 R1k = 0.306 | Sk = 645.09 | R2k = 0.834\n",
      "WWTP 3 Mean = 0.514 Maximum = 1.06 Minimum = 0.0 Amplitude (max-min)(%) = 106.0\n",
      "WWTP 3 R1k = 0.148 | Sk = 374.57 | R2k = 0.429\n",
      "WWTP 4 Mean = 0.488 Maximum = 1.03 Minimum = 0.0 Amplitude (max-min)(%) = 103.0\n",
      "WWTP 4 R1k = 0.148 | Sk = 355.5 | R2k = 0.399\n",
      "WWTP 5 Mean = 0.64 Maximum = 0.79 Minimum = 0.51 Amplitude (max-min)(%) = 28.0\n",
      "WWTP 5 R1k = 0.0 | Sk = 466.74 | R2k = 0.64\n",
      "WWTP 6 Mean = 0.438 Maximum = 1.06 Minimum = 0.0 Amplitude (max-min)(%) = 106.0\n",
      "WWTP 6 R1k = 0.084 | Sk = 318.99 | R2k = 0.386\n",
      "WWTP 7 Mean = 0.558 Maximum = 1.06 Minimum = 0.0 Amplitude (max-min)(%) = 106.0\n",
      "WWTP 7 R1k = 0.399 | Sk = 406.53 | R2k = 0.264\n"
     ]
    }
   ],
   "source": [
    "for column in df:    \n",
    "    wwtp = column[0]\n",
    "    \n",
    "    # TODO: get original (pre-analysis) value\n",
    "    # pending\n",
    "    \n",
    "    # calculate mean \n",
    "    avg_eff = round(df[column].mean(),3)\n",
    "    \n",
    "    # calculate max\n",
    "    max_eff = round(df[column].max(),3)\n",
    "    \n",
    "    # calculate min\n",
    "    min_eff = round(df[column].min(),3)\n",
    "    \n",
    "    # calculate amplitude \n",
    "    amplitude = round((max_eff - min_eff)*100,2)\n",
    "    \n",
    "    amp_str = \"Amplitude (max-min)(%)\"\n",
    "    \n",
    "    # print stats results\n",
    "    print(\"WWTP\", wwtp,\"Mean =\",avg_eff,\"Maximum =\",max_eff,\"Minimum =\",min_eff, amp_str,\"=\",amplitude)\n",
    "    stats_df = stats_df.append({ 'WWTP': wwtp, \"Mean\": avg_eff, \"Maximum\" : max_eff, \"Minimum\": min_eff, amp_str: amplitude},ignore_index=True)\n",
    "    \n",
    "    \n",
    "    # TODO: Populate statistics dataframe using pd.df.append\n",
    "    \n",
    "    # Calculating Sk sum of factors\n",
    "    Sk = round(df[column].sum(),3)\n",
    "    \n",
    "    # Calculating ek sum of factors of 1 (or above if errors in calculation)\n",
    "    ek = df[column] >= 1\n",
    "    ek = ek.sum()\n",
    "    \n",
    "    # Calculating R1k ek/tao\n",
    "    R1k = round(ek/tao,3)\n",
    "    \n",
    "    # Calculate R2k\n",
    "    if tao != ek:\n",
    "        R2k = (Sk - ek)/(tao - ek)\n",
    "    elif Rk1 == 1:\n",
    "        R2k = 0\n",
    "        \n",
    "    R2k = round(R2k,3)\n",
    "    \n",
    "    # Printing results\n",
    "    print(\"WWTP\", wwtp,\"R1k =\",R1k, \"| Sk =\",Sk, \"| R2k =\",R2k)    \n",
    "    \n",
    "    # Populate ranking dataframe using pd.df.append\n",
    "    # Using unicode to name columns with super and subscripts\n",
    "    R1k_col = 'R\\u00B9\\u2096\\u2080'\n",
    "    R2k_col = 'R\\u00B2\\u2096\\u2080'\n",
    "    ranked_df = ranked_df.append({ R2k_col:R2k, R1k_col: R1k,'WWTP': wwtp},ignore_index=True)"
   ]
  },
  {
   "cell_type": "code",
   "execution_count": 10,
   "metadata": {},
   "outputs": [],
   "source": [
    "# Reorder columns to be usable as a results table\n",
    "ranked_df = ranked_df.reindex(columns=['WWTP',R1k_col, R2k_col])"
   ]
  },
  {
   "cell_type": "code",
   "execution_count": 11,
   "metadata": {},
   "outputs": [
    {
     "data": {
      "text/html": [
       "<div>\n",
       "<style scoped>\n",
       "    .dataframe tbody tr th:only-of-type {\n",
       "        vertical-align: middle;\n",
       "    }\n",
       "\n",
       "    .dataframe tbody tr th {\n",
       "        vertical-align: top;\n",
       "    }\n",
       "\n",
       "    .dataframe thead th {\n",
       "        text-align: right;\n",
       "    }\n",
       "</style>\n",
       "<table border=\"1\" class=\"dataframe\">\n",
       "  <thead>\n",
       "    <tr style=\"text-align: right;\">\n",
       "      <th></th>\n",
       "      <th>WWTP</th>\n",
       "      <th>R¹ₖ₀</th>\n",
       "      <th>R²ₖ₀</th>\n",
       "    </tr>\n",
       "  </thead>\n",
       "  <tbody>\n",
       "    <tr>\n",
       "      <th>0</th>\n",
       "      <td>1</td>\n",
       "      <td>0.631</td>\n",
       "      <td>1.077</td>\n",
       "    </tr>\n",
       "    <tr>\n",
       "      <th>1</th>\n",
       "      <td>2</td>\n",
       "      <td>0.306</td>\n",
       "      <td>0.834</td>\n",
       "    </tr>\n",
       "    <tr>\n",
       "      <th>2</th>\n",
       "      <td>3</td>\n",
       "      <td>0.148</td>\n",
       "      <td>0.429</td>\n",
       "    </tr>\n",
       "    <tr>\n",
       "      <th>3</th>\n",
       "      <td>4</td>\n",
       "      <td>0.148</td>\n",
       "      <td>0.399</td>\n",
       "    </tr>\n",
       "    <tr>\n",
       "      <th>4</th>\n",
       "      <td>5</td>\n",
       "      <td>0.000</td>\n",
       "      <td>0.640</td>\n",
       "    </tr>\n",
       "    <tr>\n",
       "      <th>5</th>\n",
       "      <td>6</td>\n",
       "      <td>0.084</td>\n",
       "      <td>0.386</td>\n",
       "    </tr>\n",
       "    <tr>\n",
       "      <th>6</th>\n",
       "      <td>7</td>\n",
       "      <td>0.399</td>\n",
       "      <td>0.264</td>\n",
       "    </tr>\n",
       "  </tbody>\n",
       "</table>\n",
       "</div>"
      ],
      "text/plain": [
       "  WWTP   R¹ₖ₀   R²ₖ₀\n",
       "0    1  0.631  1.077\n",
       "1    2  0.306  0.834\n",
       "2    3  0.148  0.429\n",
       "3    4  0.148  0.399\n",
       "4    5  0.000  0.640\n",
       "5    6  0.084  0.386\n",
       "6    7  0.399  0.264"
      ]
     },
     "execution_count": 11,
     "metadata": {},
     "output_type": "execute_result"
    }
   ],
   "source": [
    "ranked_df"
   ]
  },
  {
   "cell_type": "code",
   "execution_count": 12,
   "metadata": {},
   "outputs": [],
   "source": [
    "# Save rankings dataframe as csv file\n",
    "ranked_df.to_csv(\"../results/default/ranking.csv\",index=False)"
   ]
  },
  {
   "cell_type": "code",
   "execution_count": 13,
   "metadata": {},
   "outputs": [],
   "source": [
    "# Calculate the mean of every column\n",
    "mean_mean = round(stats_df.Mean.mean(),3)\n",
    "mean_max = round(stats_df.Maximum.mean(),3)\n",
    "mean_min = round(stats_df.Minimum.mean(),3)\n",
    "mean_amp = round(stats_df[amp_str].mean(),3)"
   ]
  },
  {
   "cell_type": "code",
   "execution_count": 14,
   "metadata": {},
   "outputs": [],
   "source": [
    "# Add means to stats dataframe\n",
    "stats_df = stats_df.append({ 'WWTP': \"Mean\", \"Mean\" : mean_mean, \"Maximum\" : mean_max, \n",
    "                            \"Minimum\" : mean_min, amp_str : mean_amp},ignore_index=True)"
   ]
  },
  {
   "cell_type": "code",
   "execution_count": 15,
   "metadata": {},
   "outputs": [],
   "source": [
    "# Calculate the standard deviation of every column\n",
    "sd_mean = round(stats_df.Mean.std(),3)\n",
    "sd_max = round(stats_df.Maximum.std(),3)\n",
    "sd_min = round(stats_df.Minimum.std(),3)\n",
    "sd_amp = round(stats_df[amp_str].std(),3)"
   ]
  },
  {
   "cell_type": "code",
   "execution_count": 16,
   "metadata": {},
   "outputs": [],
   "source": [
    "# Add means to stats dataframe\n",
    "stats_df = stats_df.append({ 'WWTP': \"SD\", \"Mean\" : sd_mean, \"Maximum\" : sd_max, \n",
    "                            \"Minimum\" : sd_min, amp_str : sd_amp},ignore_index=True)"
   ]
  },
  {
   "cell_type": "code",
   "execution_count": 17,
   "metadata": {},
   "outputs": [],
   "source": [
    "# Reorder columns\n",
    "stats_df = stats_df.reindex(columns=[\"WWTP\", \"Mean\", \"Maximum\", \"Minimum\", amp_str])"
   ]
  },
  {
   "cell_type": "code",
   "execution_count": 18,
   "metadata": {},
   "outputs": [
    {
     "data": {
      "text/html": [
       "<div>\n",
       "<style scoped>\n",
       "    .dataframe tbody tr th:only-of-type {\n",
       "        vertical-align: middle;\n",
       "    }\n",
       "\n",
       "    .dataframe tbody tr th {\n",
       "        vertical-align: top;\n",
       "    }\n",
       "\n",
       "    .dataframe thead th {\n",
       "        text-align: right;\n",
       "    }\n",
       "</style>\n",
       "<table border=\"1\" class=\"dataframe\">\n",
       "  <thead>\n",
       "    <tr style=\"text-align: right;\">\n",
       "      <th></th>\n",
       "      <th>WWTP</th>\n",
       "      <th>Mean</th>\n",
       "      <th>Maximum</th>\n",
       "      <th>Minimum</th>\n",
       "      <th>Amplitude (max-min)(%)</th>\n",
       "    </tr>\n",
       "  </thead>\n",
       "  <tbody>\n",
       "    <tr>\n",
       "      <th>0</th>\n",
       "      <td>1</td>\n",
       "      <td>1.028</td>\n",
       "      <td>1.400</td>\n",
       "      <td>0.000</td>\n",
       "      <td>140.000</td>\n",
       "    </tr>\n",
       "    <tr>\n",
       "      <th>1</th>\n",
       "      <td>2</td>\n",
       "      <td>0.885</td>\n",
       "      <td>1.360</td>\n",
       "      <td>0.700</td>\n",
       "      <td>66.000</td>\n",
       "    </tr>\n",
       "    <tr>\n",
       "      <th>2</th>\n",
       "      <td>3</td>\n",
       "      <td>0.514</td>\n",
       "      <td>1.060</td>\n",
       "      <td>0.000</td>\n",
       "      <td>106.000</td>\n",
       "    </tr>\n",
       "    <tr>\n",
       "      <th>3</th>\n",
       "      <td>4</td>\n",
       "      <td>0.488</td>\n",
       "      <td>1.030</td>\n",
       "      <td>0.000</td>\n",
       "      <td>103.000</td>\n",
       "    </tr>\n",
       "    <tr>\n",
       "      <th>4</th>\n",
       "      <td>5</td>\n",
       "      <td>0.640</td>\n",
       "      <td>0.790</td>\n",
       "      <td>0.510</td>\n",
       "      <td>28.000</td>\n",
       "    </tr>\n",
       "    <tr>\n",
       "      <th>5</th>\n",
       "      <td>6</td>\n",
       "      <td>0.438</td>\n",
       "      <td>1.060</td>\n",
       "      <td>0.000</td>\n",
       "      <td>106.000</td>\n",
       "    </tr>\n",
       "    <tr>\n",
       "      <th>6</th>\n",
       "      <td>7</td>\n",
       "      <td>0.558</td>\n",
       "      <td>1.060</td>\n",
       "      <td>0.000</td>\n",
       "      <td>106.000</td>\n",
       "    </tr>\n",
       "    <tr>\n",
       "      <th>7</th>\n",
       "      <td>Mean</td>\n",
       "      <td>0.650</td>\n",
       "      <td>1.109</td>\n",
       "      <td>0.173</td>\n",
       "      <td>93.571</td>\n",
       "    </tr>\n",
       "    <tr>\n",
       "      <th>8</th>\n",
       "      <td>SD</td>\n",
       "      <td>0.206</td>\n",
       "      <td>0.194</td>\n",
       "      <td>0.278</td>\n",
       "      <td>33.312</td>\n",
       "    </tr>\n",
       "  </tbody>\n",
       "</table>\n",
       "</div>"
      ],
      "text/plain": [
       "   WWTP   Mean  Maximum  Minimum  Amplitude (max-min)(%)\n",
       "0     1  1.028    1.400    0.000                 140.000\n",
       "1     2  0.885    1.360    0.700                  66.000\n",
       "2     3  0.514    1.060    0.000                 106.000\n",
       "3     4  0.488    1.030    0.000                 103.000\n",
       "4     5  0.640    0.790    0.510                  28.000\n",
       "5     6  0.438    1.060    0.000                 106.000\n",
       "6     7  0.558    1.060    0.000                 106.000\n",
       "7  Mean  0.650    1.109    0.173                  93.571\n",
       "8    SD  0.206    0.194    0.278                  33.312"
      ]
     },
     "execution_count": 18,
     "metadata": {},
     "output_type": "execute_result"
    }
   ],
   "source": [
    "stats_df"
   ]
  },
  {
   "cell_type": "code",
   "execution_count": 19,
   "metadata": {},
   "outputs": [],
   "source": [
    "# Save statistics dataframe as csv file\n",
    "stats_df.to_csv(\"../results/default/statistics.csv\",index=False)"
   ]
  }
 ],
 "metadata": {
  "kernelspec": {
   "display_name": "Python 3",
   "language": "python",
   "name": "python3"
  },
  "language_info": {
   "codemirror_mode": {
    "name": "ipython",
    "version": 3
   },
   "file_extension": ".py",
   "mimetype": "text/x-python",
   "name": "python",
   "nbconvert_exporter": "python",
   "pygments_lexer": "ipython3",
   "version": "3.7.6"
  }
 },
 "nbformat": 4,
 "nbformat_minor": 4
}
