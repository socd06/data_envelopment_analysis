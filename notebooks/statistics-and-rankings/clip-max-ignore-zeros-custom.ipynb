{
 "cells": [
  {
   "cell_type": "code",
   "execution_count": 1,
   "metadata": {},
   "outputs": [],
   "source": [
    "# rank the obtained results using the *.log files\n",
    "import os\n",
    "import pandas as pd\n",
    "import numpy as np"
   ]
  },
  {
   "cell_type": "code",
   "execution_count": 2,
   "metadata": {},
   "outputs": [],
   "source": [
    "source = \"10\"\n",
    "targetdir = '../../data/' + source + \"/\"\n",
    "filelist = sorted(os.listdir(targetdir))"
   ]
  },
  {
   "cell_type": "code",
   "execution_count": 3,
   "metadata": {},
   "outputs": [
    {
     "data": {
      "text/plain": [
       "['1.data', '2.data', '3.data', '4.data', '5.data', '6.data', '7.data']"
      ]
     },
     "execution_count": 3,
     "metadata": {},
     "output_type": "execute_result"
    }
   ],
   "source": [
    "filelist"
   ]
  },
  {
   "cell_type": "code",
   "execution_count": 4,
   "metadata": {},
   "outputs": [
    {
     "data": {
      "text/html": [
       "<div>\n",
       "<style scoped>\n",
       "    .dataframe tbody tr th:only-of-type {\n",
       "        vertical-align: middle;\n",
       "    }\n",
       "\n",
       "    .dataframe tbody tr th {\n",
       "        vertical-align: top;\n",
       "    }\n",
       "\n",
       "    .dataframe thead th {\n",
       "        text-align: right;\n",
       "    }\n",
       "</style>\n",
       "<table border=\"1\" class=\"dataframe\">\n",
       "  <thead>\n",
       "    <tr style=\"text-align: right;\">\n",
       "      <th></th>\n",
       "      <th>1.data</th>\n",
       "      <th>2.data</th>\n",
       "      <th>3.data</th>\n",
       "      <th>4.data</th>\n",
       "      <th>5.data</th>\n",
       "      <th>6.data</th>\n",
       "      <th>7.data</th>\n",
       "    </tr>\n",
       "  </thead>\n",
       "  <tbody>\n",
       "    <tr>\n",
       "      <th>0</th>\n",
       "      <td>0.7981</td>\n",
       "      <td>0.9064</td>\n",
       "      <td>1.0000</td>\n",
       "      <td>1.0000</td>\n",
       "      <td>0.9103</td>\n",
       "      <td>1.0000</td>\n",
       "      <td>0.6492</td>\n",
       "    </tr>\n",
       "    <tr>\n",
       "      <th>1</th>\n",
       "      <td>0.7981</td>\n",
       "      <td>0.9064</td>\n",
       "      <td>1.0001</td>\n",
       "      <td>-1.0000</td>\n",
       "      <td>0.9103</td>\n",
       "      <td>-1.0000</td>\n",
       "      <td>0.6492</td>\n",
       "    </tr>\n",
       "    <tr>\n",
       "      <th>2</th>\n",
       "      <td>0.7981</td>\n",
       "      <td>0.9064</td>\n",
       "      <td>1.0002</td>\n",
       "      <td>-1.0000</td>\n",
       "      <td>0.9103</td>\n",
       "      <td>-1.0000</td>\n",
       "      <td>0.6492</td>\n",
       "    </tr>\n",
       "    <tr>\n",
       "      <th>3</th>\n",
       "      <td>0.6604</td>\n",
       "      <td>0.7501</td>\n",
       "      <td>0.8219</td>\n",
       "      <td>0.8276</td>\n",
       "      <td>0.7533</td>\n",
       "      <td>0.5203</td>\n",
       "      <td>0.5373</td>\n",
       "    </tr>\n",
       "    <tr>\n",
       "      <th>4</th>\n",
       "      <td>0.6604</td>\n",
       "      <td>0.7501</td>\n",
       "      <td>0.8219</td>\n",
       "      <td>0.8276</td>\n",
       "      <td>0.7533</td>\n",
       "      <td>0.5203</td>\n",
       "      <td>0.5373</td>\n",
       "    </tr>\n",
       "  </tbody>\n",
       "</table>\n",
       "</div>"
      ],
      "text/plain": [
       "   1.data  2.data  3.data  4.data  5.data  6.data  7.data\n",
       "0  0.7981  0.9064  1.0000  1.0000  0.9103  1.0000  0.6492\n",
       "1  0.7981  0.9064  1.0001 -1.0000  0.9103 -1.0000  0.6492\n",
       "2  0.7981  0.9064  1.0002 -1.0000  0.9103 -1.0000  0.6492\n",
       "3  0.6604  0.7501  0.8219  0.8276  0.7533  0.5203  0.5373\n",
       "4  0.6604  0.7501  0.8219  0.8276  0.7533  0.5203  0.5373"
      ]
     },
     "execution_count": 4,
     "metadata": {},
     "output_type": "execute_result"
    }
   ],
   "source": [
    "# Create dataframe from files\n",
    "df = pd.DataFrame()\n",
    "\n",
    "for file in filelist:\n",
    "    filename = targetdir+file\n",
    "    col_name = [file]\n",
    "    temp_df = pd.read_csv(filename,names=col_name)    \n",
    "    df = pd.concat([df, temp_df], axis=1)\n",
    "    \n",
    "# Look at the data\n",
    "df.head()"
   ]
  },
  {
   "cell_type": "code",
   "execution_count": 5,
   "metadata": {},
   "outputs": [],
   "source": [
    "# Clip values > 1 with 1 and ignore 0s\n",
    "df.mask(df > 1, 1, inplace=True)\n",
    "df.mask(df == 0, np.NaN, inplace=True)"
   ]
  },
  {
   "cell_type": "code",
   "execution_count": 6,
   "metadata": {},
   "outputs": [
    {
     "data": {
      "text/plain": [
       "1.data    0\n",
       "2.data    0\n",
       "3.data    0\n",
       "4.data    0\n",
       "5.data    0\n",
       "6.data    0\n",
       "7.data    0\n",
       "dtype: int64"
      ]
     },
     "execution_count": 6,
     "metadata": {},
     "output_type": "execute_result"
    }
   ],
   "source": [
    "# Count NaN values\n",
    "df.isna().sum()"
   ]
  },
  {
   "cell_type": "code",
   "execution_count": 7,
   "metadata": {},
   "outputs": [],
   "source": [
    "# Ignore invalid values by dropping them from the dataframe\n",
    "df = df.dropna()"
   ]
  },
  {
   "cell_type": "code",
   "execution_count": 8,
   "metadata": {},
   "outputs": [
    {
     "data": {
      "text/html": [
       "<div>\n",
       "<style scoped>\n",
       "    .dataframe tbody tr th:only-of-type {\n",
       "        vertical-align: middle;\n",
       "    }\n",
       "\n",
       "    .dataframe tbody tr th {\n",
       "        vertical-align: top;\n",
       "    }\n",
       "\n",
       "    .dataframe thead th {\n",
       "        text-align: right;\n",
       "    }\n",
       "</style>\n",
       "<table border=\"1\" class=\"dataframe\">\n",
       "  <thead>\n",
       "    <tr style=\"text-align: right;\">\n",
       "      <th></th>\n",
       "      <th>1.data</th>\n",
       "      <th>2.data</th>\n",
       "      <th>3.data</th>\n",
       "      <th>4.data</th>\n",
       "      <th>5.data</th>\n",
       "      <th>6.data</th>\n",
       "      <th>7.data</th>\n",
       "    </tr>\n",
       "  </thead>\n",
       "  <tbody>\n",
       "    <tr>\n",
       "      <th>0</th>\n",
       "      <td>0.7981</td>\n",
       "      <td>0.9064</td>\n",
       "      <td>1.0000</td>\n",
       "      <td>1.0000</td>\n",
       "      <td>0.9103</td>\n",
       "      <td>1.0000</td>\n",
       "      <td>0.6492</td>\n",
       "    </tr>\n",
       "    <tr>\n",
       "      <th>1</th>\n",
       "      <td>0.7981</td>\n",
       "      <td>0.9064</td>\n",
       "      <td>1.0000</td>\n",
       "      <td>-1.0000</td>\n",
       "      <td>0.9103</td>\n",
       "      <td>-1.0000</td>\n",
       "      <td>0.6492</td>\n",
       "    </tr>\n",
       "    <tr>\n",
       "      <th>2</th>\n",
       "      <td>0.7981</td>\n",
       "      <td>0.9064</td>\n",
       "      <td>1.0000</td>\n",
       "      <td>-1.0000</td>\n",
       "      <td>0.9103</td>\n",
       "      <td>-1.0000</td>\n",
       "      <td>0.6492</td>\n",
       "    </tr>\n",
       "    <tr>\n",
       "      <th>3</th>\n",
       "      <td>0.6604</td>\n",
       "      <td>0.7501</td>\n",
       "      <td>0.8219</td>\n",
       "      <td>0.8276</td>\n",
       "      <td>0.7533</td>\n",
       "      <td>0.5203</td>\n",
       "      <td>0.5373</td>\n",
       "    </tr>\n",
       "    <tr>\n",
       "      <th>4</th>\n",
       "      <td>0.6604</td>\n",
       "      <td>0.7501</td>\n",
       "      <td>0.8219</td>\n",
       "      <td>0.8276</td>\n",
       "      <td>0.7533</td>\n",
       "      <td>0.5203</td>\n",
       "      <td>0.5373</td>\n",
       "    </tr>\n",
       "    <tr>\n",
       "      <th>...</th>\n",
       "      <td>...</td>\n",
       "      <td>...</td>\n",
       "      <td>...</td>\n",
       "      <td>...</td>\n",
       "      <td>...</td>\n",
       "      <td>...</td>\n",
       "      <td>...</td>\n",
       "    </tr>\n",
       "    <tr>\n",
       "      <th>724</th>\n",
       "      <td>0.7393</td>\n",
       "      <td>0.7869</td>\n",
       "      <td>0.9528</td>\n",
       "      <td>-1.0000</td>\n",
       "      <td>0.7734</td>\n",
       "      <td>0.5320</td>\n",
       "      <td>0.5525</td>\n",
       "    </tr>\n",
       "    <tr>\n",
       "      <th>725</th>\n",
       "      <td>0.7393</td>\n",
       "      <td>0.7869</td>\n",
       "      <td>0.9528</td>\n",
       "      <td>-1.0000</td>\n",
       "      <td>0.7734</td>\n",
       "      <td>0.5320</td>\n",
       "      <td>0.5525</td>\n",
       "    </tr>\n",
       "    <tr>\n",
       "      <th>726</th>\n",
       "      <td>0.6306</td>\n",
       "      <td>0.6712</td>\n",
       "      <td>0.7977</td>\n",
       "      <td>1.0000</td>\n",
       "      <td>0.6597</td>\n",
       "      <td>0.4538</td>\n",
       "      <td>0.4713</td>\n",
       "    </tr>\n",
       "    <tr>\n",
       "      <th>727</th>\n",
       "      <td>0.6306</td>\n",
       "      <td>0.6712</td>\n",
       "      <td>0.7977</td>\n",
       "      <td>1.0000</td>\n",
       "      <td>0.6597</td>\n",
       "      <td>0.4538</td>\n",
       "      <td>0.4713</td>\n",
       "    </tr>\n",
       "    <tr>\n",
       "      <th>728</th>\n",
       "      <td>0.6306</td>\n",
       "      <td>0.6712</td>\n",
       "      <td>0.7977</td>\n",
       "      <td>1.0000</td>\n",
       "      <td>0.6597</td>\n",
       "      <td>0.4538</td>\n",
       "      <td>0.4713</td>\n",
       "    </tr>\n",
       "  </tbody>\n",
       "</table>\n",
       "<p>729 rows × 7 columns</p>\n",
       "</div>"
      ],
      "text/plain": [
       "     1.data  2.data  3.data  4.data  5.data  6.data  7.data\n",
       "0    0.7981  0.9064  1.0000  1.0000  0.9103  1.0000  0.6492\n",
       "1    0.7981  0.9064  1.0000 -1.0000  0.9103 -1.0000  0.6492\n",
       "2    0.7981  0.9064  1.0000 -1.0000  0.9103 -1.0000  0.6492\n",
       "3    0.6604  0.7501  0.8219  0.8276  0.7533  0.5203  0.5373\n",
       "4    0.6604  0.7501  0.8219  0.8276  0.7533  0.5203  0.5373\n",
       "..      ...     ...     ...     ...     ...     ...     ...\n",
       "724  0.7393  0.7869  0.9528 -1.0000  0.7734  0.5320  0.5525\n",
       "725  0.7393  0.7869  0.9528 -1.0000  0.7734  0.5320  0.5525\n",
       "726  0.6306  0.6712  0.7977  1.0000  0.6597  0.4538  0.4713\n",
       "727  0.6306  0.6712  0.7977  1.0000  0.6597  0.4538  0.4713\n",
       "728  0.6306  0.6712  0.7977  1.0000  0.6597  0.4538  0.4713\n",
       "\n",
       "[729 rows x 7 columns]"
      ]
     },
     "execution_count": 8,
     "metadata": {},
     "output_type": "execute_result"
    }
   ],
   "source": [
    "df"
   ]
  },
  {
   "cell_type": "code",
   "execution_count": 9,
   "metadata": {},
   "outputs": [],
   "source": [
    "# Save processed dataframe as csv file\n",
    "df.to_csv(\"../../data/processed/\" + source +\".csv\",index=False)"
   ]
  },
  {
   "cell_type": "code",
   "execution_count": 10,
   "metadata": {},
   "outputs": [],
   "source": [
    "# Creating ranked dataframe\n",
    "ranked_df = pd.DataFrame()\n",
    "stats_df = pd.DataFrame()"
   ]
  },
  {
   "cell_type": "code",
   "execution_count": 11,
   "metadata": {},
   "outputs": [
    {
     "data": {
      "text/plain": [
       "729"
      ]
     },
     "execution_count": 11,
     "metadata": {},
     "output_type": "execute_result"
    }
   ],
   "source": [
    "# Creating scenario quantity variable\n",
    "tao = len(df)\n",
    "tao"
   ]
  },
  {
   "cell_type": "markdown",
   "metadata": {},
   "source": [
    "## Ranking of WWTP"
   ]
  },
  {
   "cell_type": "code",
   "execution_count": 12,
   "metadata": {},
   "outputs": [
    {
     "name": "stdout",
     "output_type": "stream",
     "text": [
      "WWTP 1 Mean = 0.714 Maximum = 0.912 Minimum = 0.552 Amplitude (max-min)(%) = 36.0\n",
      "ek = 0\n",
      "WWTP 1 | ek = 0 | R1k = 0.0 | Sk = 520.569 | R2k = 0.714\n",
      "WWTP 2 Mean = 0.784 Maximum = 0.966 Minimum = 0.63 Amplitude (max-min)(%) = 33.6\n",
      "ek = 0\n",
      "WWTP 2 | ek = 0 | R1k = 0.0 | Sk = 571.685 | R2k = 0.784\n",
      "WWTP 3 Mean = 0.876 Maximum = 1.0 Minimum = 0.65 Amplitude (max-min)(%) = 35.0\n",
      "ek = 216\n",
      "WWTP 3 | ek = 216 | R1k = 0.296 | Sk = 638.57 | R2k = 0.824\n",
      "WWTP 4 Mean = 0.041 Maximum = 1.0 Minimum = -1.0 Amplitude (max-min)(%) = 200.0\n",
      "ek = 108\n",
      "WWTP 4 | ek = 108 | R1k = 0.148 | Sk = 30.209 | R2k = -0.125\n",
      "WWTP 5 Mean = 0.779 Maximum = 0.966 Minimum = 0.622 Amplitude (max-min)(%) = 34.4\n",
      "ek = 0\n",
      "WWTP 5 | ek = 0 | R1k = 0.0 | Sk = 567.975 | R2k = 0.779\n",
      "WWTP 6 Mean = 0.232 Maximum = 1.0 Minimum = -1.0 Amplitude (max-min)(%) = 200.0\n",
      "ek = 18\n",
      "WWTP 6 | ek = 18 | R1k = 0.025 | Sk = 169.34 | R2k = 0.213\n",
      "WWTP 7 Mean = 0.556 Maximum = 0.686 Minimum = 0.446 Amplitude (max-min)(%) = 24.0\n",
      "ek = 0\n",
      "WWTP 7 | ek = 0 | R1k = 0.0 | Sk = 405.396 | R2k = 0.556\n"
     ]
    }
   ],
   "source": [
    "for column in df:    \n",
    "    wwtp = column[0]\n",
    "    \n",
    "    # TODO: get original (pre-analysis) value\n",
    "    # pending\n",
    "    \n",
    "    # calculate mean \n",
    "    avg_eff = round(df[column].mean(),3)\n",
    "    \n",
    "    # calculate max\n",
    "    max_eff = round(df[column].max(),3)\n",
    "    \n",
    "    # calculate min\n",
    "    min_eff = round(df[column].min(),3)\n",
    "    \n",
    "    # calculate amplitude \n",
    "    amplitude = round((max_eff - min_eff)*100,2)\n",
    "    \n",
    "    amp_str = \"Amplitude (max-min)(%)\"\n",
    "    \n",
    "    # print stats results\n",
    "    print(\"WWTP\", wwtp,\"Mean =\",avg_eff,\"Maximum =\",max_eff,\"Minimum =\",min_eff, amp_str,\"=\",amplitude)\n",
    "    stats_df = stats_df.append({ 'WWTP': wwtp, \"Mean\": avg_eff, \"Maximum\" : max_eff, \"Minimum\": min_eff, amp_str: amplitude},ignore_index=True)\n",
    "    \n",
    "    \n",
    "    # TODO: Populate statistics dataframe using pd.df.append\n",
    "    \n",
    "    # Calculating Sk sum of factors\n",
    "    Sk = round(df[column].sum(),3)    \n",
    "    \n",
    "    # Calculating ek sum of factors of 1 (or above if errors in calculation)\n",
    "    ek = df[column] >= 1\n",
    "    ek = ek.sum()\n",
    "    print(\"ek =\",ek)\n",
    "    \n",
    "    # Calculating R1k ek/tao\n",
    "    R1k = round(ek/tao,3)\n",
    "    \n",
    "    # Calculate R2k\n",
    "    if tao != ek:\n",
    "        R2k = (Sk - ek)/(tao - ek)\n",
    "    elif R1k == 1:\n",
    "        R2k = 0\n",
    "        \n",
    "    R2k = round(R2k,3)\n",
    "    \n",
    "    # Printing results\n",
    "    print(\"WWTP\", wwtp,\"| ek =\",ek,\"| R1k =\",R1k, \"| Sk =\",Sk, \"| R2k =\",R2k)    \n",
    "    \n",
    "    # Populate ranking dataframe using pd.df.append\n",
    "    # Using unicode to name columns with super and subscripts\n",
    "    R1k_col = 'R\\u00B9\\u2096\\u2080'\n",
    "    R2k_col = 'R\\u00B2\\u2096\\u2080'\n",
    "    ranked_df = ranked_df.append({ R2k_col:R2k, R1k_col: R1k,'WWTP': wwtp},ignore_index=True)"
   ]
  },
  {
   "cell_type": "code",
   "execution_count": 13,
   "metadata": {},
   "outputs": [],
   "source": [
    "# Reorder columns to be usable as a results table\n",
    "ranked_df = ranked_df.reindex(columns=['WWTP',R1k_col, R2k_col])"
   ]
  },
  {
   "cell_type": "code",
   "execution_count": 14,
   "metadata": {},
   "outputs": [
    {
     "data": {
      "text/html": [
       "<div>\n",
       "<style scoped>\n",
       "    .dataframe tbody tr th:only-of-type {\n",
       "        vertical-align: middle;\n",
       "    }\n",
       "\n",
       "    .dataframe tbody tr th {\n",
       "        vertical-align: top;\n",
       "    }\n",
       "\n",
       "    .dataframe thead th {\n",
       "        text-align: right;\n",
       "    }\n",
       "</style>\n",
       "<table border=\"1\" class=\"dataframe\">\n",
       "  <thead>\n",
       "    <tr style=\"text-align: right;\">\n",
       "      <th></th>\n",
       "      <th>WWTP</th>\n",
       "      <th>R¹ₖ₀</th>\n",
       "      <th>R²ₖ₀</th>\n",
       "    </tr>\n",
       "  </thead>\n",
       "  <tbody>\n",
       "    <tr>\n",
       "      <th>0</th>\n",
       "      <td>1</td>\n",
       "      <td>0.000</td>\n",
       "      <td>0.714</td>\n",
       "    </tr>\n",
       "    <tr>\n",
       "      <th>1</th>\n",
       "      <td>2</td>\n",
       "      <td>0.000</td>\n",
       "      <td>0.784</td>\n",
       "    </tr>\n",
       "    <tr>\n",
       "      <th>2</th>\n",
       "      <td>3</td>\n",
       "      <td>0.296</td>\n",
       "      <td>0.824</td>\n",
       "    </tr>\n",
       "    <tr>\n",
       "      <th>3</th>\n",
       "      <td>4</td>\n",
       "      <td>0.148</td>\n",
       "      <td>-0.125</td>\n",
       "    </tr>\n",
       "    <tr>\n",
       "      <th>4</th>\n",
       "      <td>5</td>\n",
       "      <td>0.000</td>\n",
       "      <td>0.779</td>\n",
       "    </tr>\n",
       "    <tr>\n",
       "      <th>5</th>\n",
       "      <td>6</td>\n",
       "      <td>0.025</td>\n",
       "      <td>0.213</td>\n",
       "    </tr>\n",
       "    <tr>\n",
       "      <th>6</th>\n",
       "      <td>7</td>\n",
       "      <td>0.000</td>\n",
       "      <td>0.556</td>\n",
       "    </tr>\n",
       "  </tbody>\n",
       "</table>\n",
       "</div>"
      ],
      "text/plain": [
       "  WWTP   R¹ₖ₀   R²ₖ₀\n",
       "0    1  0.000  0.714\n",
       "1    2  0.000  0.784\n",
       "2    3  0.296  0.824\n",
       "3    4  0.148 -0.125\n",
       "4    5  0.000  0.779\n",
       "5    6  0.025  0.213\n",
       "6    7  0.000  0.556"
      ]
     },
     "execution_count": 14,
     "metadata": {},
     "output_type": "execute_result"
    }
   ],
   "source": [
    "ranked_df"
   ]
  },
  {
   "cell_type": "code",
   "execution_count": 15,
   "metadata": {},
   "outputs": [
    {
     "name": "stdout",
     "output_type": "stream",
     "text": [
      "Creating folder and saving\n"
     ]
    }
   ],
   "source": [
    "import os\n",
    "\n",
    "path = \"../../results/\" + source + \"/\"\n",
    "\n",
    "# Save rankings dataframe as csv file\n",
    "\n",
    "try:\n",
    "    ranked_df.to_csv(path + \"ranking.csv\",index=False)\n",
    "    print(\"Save succesful\")\n",
    "except:\n",
    "    print(\"Creating folder and saving\")\n",
    "    os.mkdir(path)\n",
    "    ranked_df.to_csv(path + \"ranking.csv\",index=False)"
   ]
  },
  {
   "cell_type": "markdown",
   "metadata": {},
   "source": [
    "## Calculate Descriptive Statistics"
   ]
  },
  {
   "cell_type": "code",
   "execution_count": 16,
   "metadata": {},
   "outputs": [],
   "source": [
    "# Calculate the mean of every column\n",
    "mean_mean = round(stats_df.Mean.mean(),3)\n",
    "mean_max = round(stats_df.Maximum.mean(),3)\n",
    "mean_min = round(stats_df.Minimum.mean(),3)\n",
    "mean_amp = round(stats_df[amp_str].mean(),3)"
   ]
  },
  {
   "cell_type": "code",
   "execution_count": 17,
   "metadata": {},
   "outputs": [],
   "source": [
    "# Add means to stats dataframe\n",
    "stats_df = stats_df.append({ 'WWTP': \"Mean\", \"Mean\" : mean_mean, \"Maximum\" : mean_max, \n",
    "                            \"Minimum\" : mean_min, amp_str : mean_amp},ignore_index=True)"
   ]
  },
  {
   "cell_type": "code",
   "execution_count": 18,
   "metadata": {},
   "outputs": [],
   "source": [
    "# Calculate the standard deviation of every column\n",
    "sd_mean = round(stats_df.Mean.std(),3)\n",
    "sd_max = round(stats_df.Maximum.std(),3)\n",
    "sd_min = round(stats_df.Minimum.std(),3)\n",
    "sd_amp = round(stats_df[amp_str].std(),3)"
   ]
  },
  {
   "cell_type": "code",
   "execution_count": 19,
   "metadata": {},
   "outputs": [],
   "source": [
    "# Add means to stats dataframe\n",
    "stats_df = stats_df.append({ 'WWTP': \"SD\", \"Mean\" : sd_mean, \"Maximum\" : sd_max, \n",
    "                            \"Minimum\" : sd_min, amp_str : sd_amp},ignore_index=True)"
   ]
  },
  {
   "cell_type": "code",
   "execution_count": 20,
   "metadata": {},
   "outputs": [],
   "source": [
    "# Reorder columns\n",
    "stats_df = stats_df.reindex(columns=[\"WWTP\", \"Mean\", \"Maximum\", \"Minimum\", amp_str])"
   ]
  },
  {
   "cell_type": "code",
   "execution_count": 21,
   "metadata": {},
   "outputs": [
    {
     "data": {
      "text/html": [
       "<div>\n",
       "<style scoped>\n",
       "    .dataframe tbody tr th:only-of-type {\n",
       "        vertical-align: middle;\n",
       "    }\n",
       "\n",
       "    .dataframe tbody tr th {\n",
       "        vertical-align: top;\n",
       "    }\n",
       "\n",
       "    .dataframe thead th {\n",
       "        text-align: right;\n",
       "    }\n",
       "</style>\n",
       "<table border=\"1\" class=\"dataframe\">\n",
       "  <thead>\n",
       "    <tr style=\"text-align: right;\">\n",
       "      <th></th>\n",
       "      <th>WWTP</th>\n",
       "      <th>Mean</th>\n",
       "      <th>Maximum</th>\n",
       "      <th>Minimum</th>\n",
       "      <th>Amplitude (max-min)(%)</th>\n",
       "    </tr>\n",
       "  </thead>\n",
       "  <tbody>\n",
       "    <tr>\n",
       "      <th>0</th>\n",
       "      <td>1</td>\n",
       "      <td>0.714</td>\n",
       "      <td>0.912</td>\n",
       "      <td>0.552</td>\n",
       "      <td>36.000</td>\n",
       "    </tr>\n",
       "    <tr>\n",
       "      <th>1</th>\n",
       "      <td>2</td>\n",
       "      <td>0.784</td>\n",
       "      <td>0.966</td>\n",
       "      <td>0.630</td>\n",
       "      <td>33.600</td>\n",
       "    </tr>\n",
       "    <tr>\n",
       "      <th>2</th>\n",
       "      <td>3</td>\n",
       "      <td>0.876</td>\n",
       "      <td>1.000</td>\n",
       "      <td>0.650</td>\n",
       "      <td>35.000</td>\n",
       "    </tr>\n",
       "    <tr>\n",
       "      <th>3</th>\n",
       "      <td>4</td>\n",
       "      <td>0.041</td>\n",
       "      <td>1.000</td>\n",
       "      <td>-1.000</td>\n",
       "      <td>200.000</td>\n",
       "    </tr>\n",
       "    <tr>\n",
       "      <th>4</th>\n",
       "      <td>5</td>\n",
       "      <td>0.779</td>\n",
       "      <td>0.966</td>\n",
       "      <td>0.622</td>\n",
       "      <td>34.400</td>\n",
       "    </tr>\n",
       "    <tr>\n",
       "      <th>5</th>\n",
       "      <td>6</td>\n",
       "      <td>0.232</td>\n",
       "      <td>1.000</td>\n",
       "      <td>-1.000</td>\n",
       "      <td>200.000</td>\n",
       "    </tr>\n",
       "    <tr>\n",
       "      <th>6</th>\n",
       "      <td>7</td>\n",
       "      <td>0.556</td>\n",
       "      <td>0.686</td>\n",
       "      <td>0.446</td>\n",
       "      <td>24.000</td>\n",
       "    </tr>\n",
       "    <tr>\n",
       "      <th>7</th>\n",
       "      <td>Mean</td>\n",
       "      <td>0.569</td>\n",
       "      <td>0.933</td>\n",
       "      <td>0.129</td>\n",
       "      <td>80.429</td>\n",
       "    </tr>\n",
       "    <tr>\n",
       "      <th>8</th>\n",
       "      <td>SD</td>\n",
       "      <td>0.292</td>\n",
       "      <td>0.105</td>\n",
       "      <td>0.717</td>\n",
       "      <td>75.714</td>\n",
       "    </tr>\n",
       "  </tbody>\n",
       "</table>\n",
       "</div>"
      ],
      "text/plain": [
       "   WWTP   Mean  Maximum  Minimum  Amplitude (max-min)(%)\n",
       "0     1  0.714    0.912    0.552                  36.000\n",
       "1     2  0.784    0.966    0.630                  33.600\n",
       "2     3  0.876    1.000    0.650                  35.000\n",
       "3     4  0.041    1.000   -1.000                 200.000\n",
       "4     5  0.779    0.966    0.622                  34.400\n",
       "5     6  0.232    1.000   -1.000                 200.000\n",
       "6     7  0.556    0.686    0.446                  24.000\n",
       "7  Mean  0.569    0.933    0.129                  80.429\n",
       "8    SD  0.292    0.105    0.717                  75.714"
      ]
     },
     "execution_count": 21,
     "metadata": {},
     "output_type": "execute_result"
    }
   ],
   "source": [
    "stats_df"
   ]
  },
  {
   "cell_type": "code",
   "execution_count": 22,
   "metadata": {},
   "outputs": [],
   "source": [
    "# Save statistics dataframe as csv file\n",
    "stats_df.to_csv(path + \"statistics.csv\",index=False)"
   ]
  },
  {
   "cell_type": "code",
   "execution_count": 23,
   "metadata": {},
   "outputs": [
    {
     "name": "stdout",
     "output_type": "stream",
     "text": [
      "[NbConvertApp] Converting notebook clip-max-ignore-zeros-custom.ipynb to pdf\n",
      "[NbConvertApp] Writing 45149 bytes to ./notebook.tex\n",
      "[NbConvertApp] Building PDF\n",
      "[NbConvertApp] Running xelatex 3 times: ['xelatex', './notebook.tex', '-quiet']\n",
      "[NbConvertApp] Running bibtex 1 time: ['bibtex', './notebook']\n",
      "[NbConvertApp] WARNING | bibtex had problems, most likely because there were no citations\n",
      "[NbConvertApp] PDF successfully created\n",
      "[NbConvertApp] Writing 47037 bytes to ../../results/10/clip-max-ignore-zeros-custom.pdf\n"
     ]
    }
   ],
   "source": [
    "# Convert Jupyter Notebook to PDF LaTeX file\n",
    "!jupyter-nbconvert --to pdf \"clip-max-ignore-zeros-custom.ipynb\" --output-dir \"../../results/10/\""
   ]
  },
  {
   "cell_type": "code",
   "execution_count": null,
   "metadata": {},
   "outputs": [],
   "source": []
  }
 ],
 "metadata": {
  "kernelspec": {
   "display_name": "Python 3",
   "language": "python",
   "name": "python3"
  },
  "language_info": {
   "codemirror_mode": {
    "name": "ipython",
    "version": 3
   },
   "file_extension": ".py",
   "mimetype": "text/x-python",
   "name": "python",
   "nbconvert_exporter": "python",
   "pygments_lexer": "ipython3",
   "version": "3.7.6"
  }
 },
 "nbformat": 4,
 "nbformat_minor": 4
}
