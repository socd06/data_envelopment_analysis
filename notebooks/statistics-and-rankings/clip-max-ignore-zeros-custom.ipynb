{
 "cells": [
  {
   "cell_type": "code",
   "execution_count": 63,
   "metadata": {},
   "outputs": [],
   "source": [
    "# rank the obtained results using the *.log files\n",
    "import os\n",
    "import pandas as pd\n",
    "import numpy as np"
   ]
  },
  {
   "cell_type": "code",
   "execution_count": 64,
   "metadata": {},
   "outputs": [],
   "source": [
    "source = \"3e\"\n",
    "targetdir = '../../data/' + source + \"/\"\n",
    "filelist = sorted(os.listdir(targetdir))"
   ]
  },
  {
   "cell_type": "code",
   "execution_count": 65,
   "metadata": {},
   "outputs": [
    {
     "data": {
      "text/plain": [
       "['1.data', '2.data', '3.data', '4.data', '5.data', '6.data', '7.data']"
      ]
     },
     "execution_count": 65,
     "metadata": {},
     "output_type": "execute_result"
    }
   ],
   "source": [
    "filelist"
   ]
  },
  {
   "cell_type": "code",
   "execution_count": 66,
   "metadata": {},
   "outputs": [
    {
     "data": {
      "text/html": [
       "<div>\n",
       "<style scoped>\n",
       "    .dataframe tbody tr th:only-of-type {\n",
       "        vertical-align: middle;\n",
       "    }\n",
       "\n",
       "    .dataframe tbody tr th {\n",
       "        vertical-align: top;\n",
       "    }\n",
       "\n",
       "    .dataframe thead th {\n",
       "        text-align: right;\n",
       "    }\n",
       "</style>\n",
       "<table border=\"1\" class=\"dataframe\">\n",
       "  <thead>\n",
       "    <tr style=\"text-align: right;\">\n",
       "      <th></th>\n",
       "      <th>1.data</th>\n",
       "      <th>2.data</th>\n",
       "      <th>3.data</th>\n",
       "      <th>4.data</th>\n",
       "      <th>5.data</th>\n",
       "      <th>6.data</th>\n",
       "      <th>7.data</th>\n",
       "    </tr>\n",
       "  </thead>\n",
       "  <tbody>\n",
       "    <tr>\n",
       "      <th>0</th>\n",
       "      <td>0.88</td>\n",
       "      <td>1.06</td>\n",
       "      <td>0.0</td>\n",
       "      <td>1.27</td>\n",
       "      <td>0.73</td>\n",
       "      <td>0.0</td>\n",
       "      <td>0.80</td>\n",
       "    </tr>\n",
       "    <tr>\n",
       "      <th>1</th>\n",
       "      <td>0.93</td>\n",
       "      <td>1.15</td>\n",
       "      <td>0.0</td>\n",
       "      <td>1.42</td>\n",
       "      <td>0.73</td>\n",
       "      <td>0.0</td>\n",
       "      <td>0.89</td>\n",
       "    </tr>\n",
       "    <tr>\n",
       "      <th>2</th>\n",
       "      <td>1.00</td>\n",
       "      <td>1.22</td>\n",
       "      <td>0.0</td>\n",
       "      <td>1.49</td>\n",
       "      <td>0.73</td>\n",
       "      <td>0.0</td>\n",
       "      <td>0.93</td>\n",
       "    </tr>\n",
       "    <tr>\n",
       "      <th>3</th>\n",
       "      <td>0.73</td>\n",
       "      <td>0.83</td>\n",
       "      <td>0.0</td>\n",
       "      <td>1.16</td>\n",
       "      <td>0.62</td>\n",
       "      <td>0.0</td>\n",
       "      <td>0.59</td>\n",
       "    </tr>\n",
       "    <tr>\n",
       "      <th>4</th>\n",
       "      <td>0.73</td>\n",
       "      <td>0.83</td>\n",
       "      <td>0.0</td>\n",
       "      <td>1.34</td>\n",
       "      <td>0.62</td>\n",
       "      <td>0.0</td>\n",
       "      <td>0.59</td>\n",
       "    </tr>\n",
       "  </tbody>\n",
       "</table>\n",
       "</div>"
      ],
      "text/plain": [
       "   1.data  2.data  3.data  4.data  5.data  6.data  7.data\n",
       "0    0.88    1.06     0.0    1.27    0.73     0.0    0.80\n",
       "1    0.93    1.15     0.0    1.42    0.73     0.0    0.89\n",
       "2    1.00    1.22     0.0    1.49    0.73     0.0    0.93\n",
       "3    0.73    0.83     0.0    1.16    0.62     0.0    0.59\n",
       "4    0.73    0.83     0.0    1.34    0.62     0.0    0.59"
      ]
     },
     "execution_count": 66,
     "metadata": {},
     "output_type": "execute_result"
    }
   ],
   "source": [
    "# Create dataframe from files\n",
    "df = pd.DataFrame()\n",
    "\n",
    "for file in filelist:\n",
    "    filename = targetdir+file\n",
    "    col_name = [file]\n",
    "    temp_df = pd.read_csv(filename,names=col_name)    \n",
    "    df = pd.concat([df, temp_df], axis=1)\n",
    "    \n",
    "# Look at the data\n",
    "df.head()"
   ]
  },
  {
   "cell_type": "code",
   "execution_count": 67,
   "metadata": {},
   "outputs": [],
   "source": [
    "# Clip values > 1 with 1 and ignore 0s\n",
    "df.mask(df > 1, 1, inplace=True)\n",
    "df.mask(df == 0, np.NaN, inplace=True)"
   ]
  },
  {
   "cell_type": "code",
   "execution_count": 68,
   "metadata": {},
   "outputs": [
    {
     "data": {
      "text/plain": [
       "1.data      0\n",
       "2.data      0\n",
       "3.data    729\n",
       "4.data    405\n",
       "5.data      0\n",
       "6.data    459\n",
       "7.data      0\n",
       "dtype: int64"
      ]
     },
     "execution_count": 68,
     "metadata": {},
     "output_type": "execute_result"
    }
   ],
   "source": [
    "# Count NaN values\n",
    "df.isna().sum()"
   ]
  },
  {
   "cell_type": "code",
   "execution_count": 59,
   "metadata": {},
   "outputs": [],
   "source": [
    "# Ignore invalid values by dropping them from the dataframe\n",
    "df = df.dropna()"
   ]
  },
  {
   "cell_type": "code",
   "execution_count": 60,
   "metadata": {},
   "outputs": [
    {
     "data": {
      "text/html": [
       "<div>\n",
       "<style scoped>\n",
       "    .dataframe tbody tr th:only-of-type {\n",
       "        vertical-align: middle;\n",
       "    }\n",
       "\n",
       "    .dataframe tbody tr th {\n",
       "        vertical-align: top;\n",
       "    }\n",
       "\n",
       "    .dataframe thead th {\n",
       "        text-align: right;\n",
       "    }\n",
       "</style>\n",
       "<table border=\"1\" class=\"dataframe\">\n",
       "  <thead>\n",
       "    <tr style=\"text-align: right;\">\n",
       "      <th></th>\n",
       "      <th>1.data</th>\n",
       "      <th>2.data</th>\n",
       "      <th>3.data</th>\n",
       "      <th>4.data</th>\n",
       "      <th>5.data</th>\n",
       "      <th>6.data</th>\n",
       "      <th>7.data</th>\n",
       "    </tr>\n",
       "  </thead>\n",
       "  <tbody>\n",
       "  </tbody>\n",
       "</table>\n",
       "</div>"
      ],
      "text/plain": [
       "Empty DataFrame\n",
       "Columns: [1.data, 2.data, 3.data, 4.data, 5.data, 6.data, 7.data]\n",
       "Index: []"
      ]
     },
     "execution_count": 60,
     "metadata": {},
     "output_type": "execute_result"
    }
   ],
   "source": [
    "df"
   ]
  },
  {
   "cell_type": "code",
   "execution_count": 61,
   "metadata": {},
   "outputs": [],
   "source": [
    "# Creating ranked dataframe\n",
    "ranked_df = pd.DataFrame()\n",
    "stats_df = pd.DataFrame()"
   ]
  },
  {
   "cell_type": "code",
   "execution_count": 62,
   "metadata": {},
   "outputs": [
    {
     "data": {
      "text/plain": [
       "0"
      ]
     },
     "execution_count": 62,
     "metadata": {},
     "output_type": "execute_result"
    }
   ],
   "source": [
    "# Creating scenario quantity variable\n",
    "tao = len(df)\n",
    "tao"
   ]
  },
  {
   "cell_type": "code",
   "execution_count": 42,
   "metadata": {},
   "outputs": [
    {
     "name": "stdout",
     "output_type": "stream",
     "text": [
      "WWTP 1 Mean = 0.713 Maximum = 0.93 Minimum = 0.61 Amplitude (max-min)(%) = 32.0\n",
      "WWTP 1 R1k = 0.0 | Sk = 269.67 | R2k = 0.713\n",
      "WWTP 2 Mean = 0.793 Maximum = 1.0 Minimum = 0.69 Amplitude (max-min)(%) = 31.0\n",
      "WWTP 2 R1k = 0.095 | Sk = 299.85 | R2k = 0.771\n",
      "WWTP 3 Mean = 0.92 Maximum = 1.0 Minimum = 0.76 Amplitude (max-min)(%) = 24.0\n",
      "WWTP 3 R1k = 0.27 | Sk = 347.67 | R2k = 0.89\n",
      "WWTP 4 Mean = 0.878 Maximum = 1.0 Minimum = 0.68 Amplitude (max-min)(%) = 32.0\n",
      "WWTP 4 R1k = 0.286 | Sk = 331.74 | R2k = 0.829\n",
      "WWTP 5 Mean = 0.583 Maximum = 0.76 Minimum = 0.5 Amplitude (max-min)(%) = 26.0\n",
      "WWTP 5 R1k = 0.0 | Sk = 220.23 | R2k = 0.583\n",
      "WWTP 6 Mean = 0.653 Maximum = 1.0 Minimum = 0.48 Amplitude (max-min)(%) = 52.0\n",
      "WWTP 6 R1k = 0.095 | Sk = 246.96 | R2k = 0.617\n",
      "WWTP 7 Mean = 0.573 Maximum = 0.86 Minimum = 0.49 Amplitude (max-min)(%) = 37.0\n",
      "WWTP 7 R1k = 0.0 | Sk = 216.6 | R2k = 0.573\n"
     ]
    }
   ],
   "source": [
    "for column in df:    \n",
    "    wwtp = column[0]\n",
    "    \n",
    "    # TODO: get original (pre-analysis) value\n",
    "    # pending\n",
    "    \n",
    "    # calculate mean \n",
    "    avg_eff = round(df[column].mean(),3)\n",
    "    \n",
    "    # calculate max\n",
    "    max_eff = round(df[column].max(),3)\n",
    "    \n",
    "    # calculate min\n",
    "    min_eff = round(df[column].min(),3)\n",
    "    \n",
    "    # calculate amplitude \n",
    "    amplitude = round((max_eff - min_eff)*100,2)\n",
    "    \n",
    "    amp_str = \"Amplitude (max-min)(%)\"\n",
    "    \n",
    "    # print stats results\n",
    "    print(\"WWTP\", wwtp,\"Mean =\",avg_eff,\"Maximum =\",max_eff,\"Minimum =\",min_eff, amp_str,\"=\",amplitude)\n",
    "    stats_df = stats_df.append({ 'WWTP': wwtp, \"Mean\": avg_eff, \"Maximum\" : max_eff, \"Minimum\": min_eff, amp_str: amplitude},ignore_index=True)\n",
    "    \n",
    "    \n",
    "    # TODO: Populate statistics dataframe using pd.df.append\n",
    "    \n",
    "    # Calculating Sk sum of factors\n",
    "    Sk = round(df[column].sum(),3)\n",
    "    \n",
    "    # Calculating ek sum of factors of 1 (or above if errors in calculation)\n",
    "    ek = df[column] >= 1\n",
    "    ek = ek.sum()\n",
    "    \n",
    "    # Calculating R1k ek/tao\n",
    "    R1k = round(ek/tao,3)\n",
    "    \n",
    "    # Calculate R2k\n",
    "    if tao != ek:\n",
    "        R2k = (Sk - ek)/(tao - ek)\n",
    "    elif Rk1 == 1:\n",
    "        R2k = 0\n",
    "        \n",
    "    R2k = round(R2k,3)\n",
    "    \n",
    "    # Printing results\n",
    "    print(\"WWTP\", wwtp,\"R1k =\",R1k, \"| Sk =\",Sk, \"| R2k =\",R2k)    \n",
    "    \n",
    "    # Populate ranking dataframe using pd.df.append\n",
    "    # Using unicode to name columns with super and subscripts\n",
    "    R1k_col = 'R\\u00B9\\u2096\\u2080'\n",
    "    R2k_col = 'R\\u00B2\\u2096\\u2080'\n",
    "    ranked_df = ranked_df.append({ R2k_col:R2k, R1k_col: R1k,'WWTP': wwtp},ignore_index=True)"
   ]
  },
  {
   "cell_type": "code",
   "execution_count": 43,
   "metadata": {},
   "outputs": [],
   "source": [
    "# Reorder columns to be usable as a results table\n",
    "ranked_df = ranked_df.reindex(columns=['WWTP',R1k_col, R2k_col])"
   ]
  },
  {
   "cell_type": "code",
   "execution_count": 44,
   "metadata": {},
   "outputs": [
    {
     "data": {
      "text/html": [
       "<div>\n",
       "<style scoped>\n",
       "    .dataframe tbody tr th:only-of-type {\n",
       "        vertical-align: middle;\n",
       "    }\n",
       "\n",
       "    .dataframe tbody tr th {\n",
       "        vertical-align: top;\n",
       "    }\n",
       "\n",
       "    .dataframe thead th {\n",
       "        text-align: right;\n",
       "    }\n",
       "</style>\n",
       "<table border=\"1\" class=\"dataframe\">\n",
       "  <thead>\n",
       "    <tr style=\"text-align: right;\">\n",
       "      <th></th>\n",
       "      <th>WWTP</th>\n",
       "      <th>R¹ₖ₀</th>\n",
       "      <th>R²ₖ₀</th>\n",
       "    </tr>\n",
       "  </thead>\n",
       "  <tbody>\n",
       "    <tr>\n",
       "      <th>0</th>\n",
       "      <td>1</td>\n",
       "      <td>0.000</td>\n",
       "      <td>0.713</td>\n",
       "    </tr>\n",
       "    <tr>\n",
       "      <th>1</th>\n",
       "      <td>2</td>\n",
       "      <td>0.095</td>\n",
       "      <td>0.771</td>\n",
       "    </tr>\n",
       "    <tr>\n",
       "      <th>2</th>\n",
       "      <td>3</td>\n",
       "      <td>0.270</td>\n",
       "      <td>0.890</td>\n",
       "    </tr>\n",
       "    <tr>\n",
       "      <th>3</th>\n",
       "      <td>4</td>\n",
       "      <td>0.286</td>\n",
       "      <td>0.829</td>\n",
       "    </tr>\n",
       "    <tr>\n",
       "      <th>4</th>\n",
       "      <td>5</td>\n",
       "      <td>0.000</td>\n",
       "      <td>0.583</td>\n",
       "    </tr>\n",
       "    <tr>\n",
       "      <th>5</th>\n",
       "      <td>6</td>\n",
       "      <td>0.095</td>\n",
       "      <td>0.617</td>\n",
       "    </tr>\n",
       "    <tr>\n",
       "      <th>6</th>\n",
       "      <td>7</td>\n",
       "      <td>0.000</td>\n",
       "      <td>0.573</td>\n",
       "    </tr>\n",
       "  </tbody>\n",
       "</table>\n",
       "</div>"
      ],
      "text/plain": [
       "  WWTP   R¹ₖ₀   R²ₖ₀\n",
       "0    1  0.000  0.713\n",
       "1    2  0.095  0.771\n",
       "2    3  0.270  0.890\n",
       "3    4  0.286  0.829\n",
       "4    5  0.000  0.583\n",
       "5    6  0.095  0.617\n",
       "6    7  0.000  0.573"
      ]
     },
     "execution_count": 44,
     "metadata": {},
     "output_type": "execute_result"
    }
   ],
   "source": [
    "ranked_df"
   ]
  },
  {
   "cell_type": "code",
   "execution_count": 45,
   "metadata": {},
   "outputs": [
    {
     "name": "stdout",
     "output_type": "stream",
     "text": [
      "Successfully created the directory ../../results/3c/ \n"
     ]
    }
   ],
   "source": [
    "import os\n",
    "\n",
    "# define the name of the directory to be created\n",
    "path = \"../../results/\" + source + \"/\"\n",
    "\n",
    "try:\n",
    "    os.mkdir(path)\n",
    "except OSError:\n",
    "    print (\"Creation of the directory %s failed\" % path)\n",
    "else:\n",
    "    print (\"Successfully created the directory %s \" % path)"
   ]
  },
  {
   "cell_type": "code",
   "execution_count": 46,
   "metadata": {},
   "outputs": [],
   "source": [
    "# Save rankings dataframe as csv file\n",
    "ranked_df.to_csv(path + \"ranking.csv\",index=False)"
   ]
  },
  {
   "cell_type": "markdown",
   "metadata": {},
   "source": [
    "# Calculate Descriptive Statistics"
   ]
  },
  {
   "cell_type": "code",
   "execution_count": 47,
   "metadata": {},
   "outputs": [],
   "source": [
    "# Calculate the mean of every column\n",
    "mean_mean = round(stats_df.Mean.mean(),3)\n",
    "mean_max = round(stats_df.Maximum.mean(),3)\n",
    "mean_min = round(stats_df.Minimum.mean(),3)\n",
    "mean_amp = round(stats_df[amp_str].mean(),3)"
   ]
  },
  {
   "cell_type": "code",
   "execution_count": 48,
   "metadata": {},
   "outputs": [],
   "source": [
    "# Add means to stats dataframe\n",
    "stats_df = stats_df.append({ 'WWTP': \"Mean\", \"Mean\" : mean_mean, \"Maximum\" : mean_max, \n",
    "                            \"Minimum\" : mean_min, amp_str : mean_amp},ignore_index=True)"
   ]
  },
  {
   "cell_type": "code",
   "execution_count": 49,
   "metadata": {},
   "outputs": [],
   "source": [
    "# Calculate the standard deviation of every column\n",
    "sd_mean = round(stats_df.Mean.std(),3)\n",
    "sd_max = round(stats_df.Maximum.std(),3)\n",
    "sd_min = round(stats_df.Minimum.std(),3)\n",
    "sd_amp = round(stats_df[amp_str].std(),3)"
   ]
  },
  {
   "cell_type": "code",
   "execution_count": 50,
   "metadata": {},
   "outputs": [],
   "source": [
    "# Add means to stats dataframe\n",
    "stats_df = stats_df.append({ 'WWTP': \"SD\", \"Mean\" : sd_mean, \"Maximum\" : sd_max, \n",
    "                            \"Minimum\" : sd_min, amp_str : sd_amp},ignore_index=True)"
   ]
  },
  {
   "cell_type": "code",
   "execution_count": 51,
   "metadata": {},
   "outputs": [],
   "source": [
    "# Reorder columns\n",
    "stats_df = stats_df.reindex(columns=[\"WWTP\", \"Mean\", \"Maximum\", \"Minimum\", amp_str])"
   ]
  },
  {
   "cell_type": "code",
   "execution_count": 52,
   "metadata": {},
   "outputs": [
    {
     "data": {
      "text/html": [
       "<div>\n",
       "<style scoped>\n",
       "    .dataframe tbody tr th:only-of-type {\n",
       "        vertical-align: middle;\n",
       "    }\n",
       "\n",
       "    .dataframe tbody tr th {\n",
       "        vertical-align: top;\n",
       "    }\n",
       "\n",
       "    .dataframe thead th {\n",
       "        text-align: right;\n",
       "    }\n",
       "</style>\n",
       "<table border=\"1\" class=\"dataframe\">\n",
       "  <thead>\n",
       "    <tr style=\"text-align: right;\">\n",
       "      <th></th>\n",
       "      <th>WWTP</th>\n",
       "      <th>Mean</th>\n",
       "      <th>Maximum</th>\n",
       "      <th>Minimum</th>\n",
       "      <th>Amplitude (max-min)(%)</th>\n",
       "    </tr>\n",
       "  </thead>\n",
       "  <tbody>\n",
       "    <tr>\n",
       "      <th>0</th>\n",
       "      <td>1</td>\n",
       "      <td>0.713</td>\n",
       "      <td>0.930</td>\n",
       "      <td>0.610</td>\n",
       "      <td>32.000</td>\n",
       "    </tr>\n",
       "    <tr>\n",
       "      <th>1</th>\n",
       "      <td>2</td>\n",
       "      <td>0.793</td>\n",
       "      <td>1.000</td>\n",
       "      <td>0.690</td>\n",
       "      <td>31.000</td>\n",
       "    </tr>\n",
       "    <tr>\n",
       "      <th>2</th>\n",
       "      <td>3</td>\n",
       "      <td>0.920</td>\n",
       "      <td>1.000</td>\n",
       "      <td>0.760</td>\n",
       "      <td>24.000</td>\n",
       "    </tr>\n",
       "    <tr>\n",
       "      <th>3</th>\n",
       "      <td>4</td>\n",
       "      <td>0.878</td>\n",
       "      <td>1.000</td>\n",
       "      <td>0.680</td>\n",
       "      <td>32.000</td>\n",
       "    </tr>\n",
       "    <tr>\n",
       "      <th>4</th>\n",
       "      <td>5</td>\n",
       "      <td>0.583</td>\n",
       "      <td>0.760</td>\n",
       "      <td>0.500</td>\n",
       "      <td>26.000</td>\n",
       "    </tr>\n",
       "    <tr>\n",
       "      <th>5</th>\n",
       "      <td>6</td>\n",
       "      <td>0.653</td>\n",
       "      <td>1.000</td>\n",
       "      <td>0.480</td>\n",
       "      <td>52.000</td>\n",
       "    </tr>\n",
       "    <tr>\n",
       "      <th>6</th>\n",
       "      <td>7</td>\n",
       "      <td>0.573</td>\n",
       "      <td>0.860</td>\n",
       "      <td>0.490</td>\n",
       "      <td>37.000</td>\n",
       "    </tr>\n",
       "    <tr>\n",
       "      <th>7</th>\n",
       "      <td>Mean</td>\n",
       "      <td>0.730</td>\n",
       "      <td>0.936</td>\n",
       "      <td>0.601</td>\n",
       "      <td>33.429</td>\n",
       "    </tr>\n",
       "    <tr>\n",
       "      <th>8</th>\n",
       "      <td>SD</td>\n",
       "      <td>0.128</td>\n",
       "      <td>0.087</td>\n",
       "      <td>0.105</td>\n",
       "      <td>8.550</td>\n",
       "    </tr>\n",
       "  </tbody>\n",
       "</table>\n",
       "</div>"
      ],
      "text/plain": [
       "   WWTP   Mean  Maximum  Minimum  Amplitude (max-min)(%)\n",
       "0     1  0.713    0.930    0.610                  32.000\n",
       "1     2  0.793    1.000    0.690                  31.000\n",
       "2     3  0.920    1.000    0.760                  24.000\n",
       "3     4  0.878    1.000    0.680                  32.000\n",
       "4     5  0.583    0.760    0.500                  26.000\n",
       "5     6  0.653    1.000    0.480                  52.000\n",
       "6     7  0.573    0.860    0.490                  37.000\n",
       "7  Mean  0.730    0.936    0.601                  33.429\n",
       "8    SD  0.128    0.087    0.105                   8.550"
      ]
     },
     "execution_count": 52,
     "metadata": {},
     "output_type": "execute_result"
    }
   ],
   "source": [
    "stats_df"
   ]
  },
  {
   "cell_type": "code",
   "execution_count": 53,
   "metadata": {},
   "outputs": [],
   "source": [
    "# Save statistics dataframe as csv file\n",
    "stats_df.to_csv(path + \"statistics.csv\",index=False)"
   ]
  }
 ],
 "metadata": {
  "kernelspec": {
   "display_name": "Python 3",
   "language": "python",
   "name": "python3"
  },
  "language_info": {
   "codemirror_mode": {
    "name": "ipython",
    "version": 3
   },
   "file_extension": ".py",
   "mimetype": "text/x-python",
   "name": "python",
   "nbconvert_exporter": "python",
   "pygments_lexer": "ipython3",
   "version": "3.7.6"
  }
 },
 "nbformat": 4,
 "nbformat_minor": 4
}
