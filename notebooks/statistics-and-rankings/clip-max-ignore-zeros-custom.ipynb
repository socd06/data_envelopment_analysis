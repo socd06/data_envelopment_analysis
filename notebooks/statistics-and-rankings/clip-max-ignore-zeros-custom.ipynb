{
 "cells": [
  {
   "cell_type": "code",
   "execution_count": 1,
   "metadata": {},
   "outputs": [],
   "source": [
    "# rank the obtained results using the *.log files\n",
    "import os\n",
    "import pandas as pd\n",
    "import numpy as np"
   ]
  },
  {
   "cell_type": "code",
   "execution_count": 2,
   "metadata": {},
   "outputs": [],
   "source": [
    "source = \"8a\"\n",
    "targetdir = '../../data/' + source + \"/\"\n",
    "filelist = sorted(os.listdir(targetdir))"
   ]
  },
  {
   "cell_type": "code",
   "execution_count": 3,
   "metadata": {},
   "outputs": [
    {
     "data": {
      "text/plain": [
       "['1.data', '2.data', '3.data', '4.data', '5.data', '6.data', '7.data']"
      ]
     },
     "execution_count": 3,
     "metadata": {},
     "output_type": "execute_result"
    }
   ],
   "source": [
    "filelist"
   ]
  },
  {
   "cell_type": "code",
   "execution_count": 4,
   "metadata": {},
   "outputs": [
    {
     "data": {
      "text/html": [
       "<div>\n",
       "<style scoped>\n",
       "    .dataframe tbody tr th:only-of-type {\n",
       "        vertical-align: middle;\n",
       "    }\n",
       "\n",
       "    .dataframe tbody tr th {\n",
       "        vertical-align: top;\n",
       "    }\n",
       "\n",
       "    .dataframe thead th {\n",
       "        text-align: right;\n",
       "    }\n",
       "</style>\n",
       "<table border=\"1\" class=\"dataframe\">\n",
       "  <thead>\n",
       "    <tr style=\"text-align: right;\">\n",
       "      <th></th>\n",
       "      <th>1.data</th>\n",
       "      <th>2.data</th>\n",
       "      <th>3.data</th>\n",
       "      <th>4.data</th>\n",
       "      <th>5.data</th>\n",
       "      <th>6.data</th>\n",
       "      <th>7.data</th>\n",
       "    </tr>\n",
       "  </thead>\n",
       "  <tbody>\n",
       "    <tr>\n",
       "      <th>0</th>\n",
       "      <td>1.00</td>\n",
       "      <td>0.92</td>\n",
       "      <td>1.00</td>\n",
       "      <td>1.00</td>\n",
       "      <td>0.68</td>\n",
       "      <td>1.00</td>\n",
       "      <td>1.0</td>\n",
       "    </tr>\n",
       "    <tr>\n",
       "      <th>1</th>\n",
       "      <td>1.02</td>\n",
       "      <td>0.92</td>\n",
       "      <td>0.00</td>\n",
       "      <td>0.00</td>\n",
       "      <td>0.68</td>\n",
       "      <td>0.00</td>\n",
       "      <td>0.0</td>\n",
       "    </tr>\n",
       "    <tr>\n",
       "      <th>2</th>\n",
       "      <td>1.05</td>\n",
       "      <td>0.92</td>\n",
       "      <td>0.00</td>\n",
       "      <td>0.00</td>\n",
       "      <td>0.68</td>\n",
       "      <td>0.00</td>\n",
       "      <td>0.0</td>\n",
       "    </tr>\n",
       "    <tr>\n",
       "      <th>3</th>\n",
       "      <td>0.99</td>\n",
       "      <td>0.84</td>\n",
       "      <td>0.96</td>\n",
       "      <td>0.91</td>\n",
       "      <td>0.63</td>\n",
       "      <td>0.96</td>\n",
       "      <td>1.0</td>\n",
       "    </tr>\n",
       "    <tr>\n",
       "      <th>4</th>\n",
       "      <td>0.99</td>\n",
       "      <td>0.84</td>\n",
       "      <td>0.96</td>\n",
       "      <td>0.91</td>\n",
       "      <td>0.63</td>\n",
       "      <td>0.00</td>\n",
       "      <td>0.0</td>\n",
       "    </tr>\n",
       "  </tbody>\n",
       "</table>\n",
       "</div>"
      ],
      "text/plain": [
       "   1.data  2.data  3.data  4.data  5.data  6.data  7.data\n",
       "0    1.00    0.92    1.00    1.00    0.68    1.00     1.0\n",
       "1    1.02    0.92    0.00    0.00    0.68    0.00     0.0\n",
       "2    1.05    0.92    0.00    0.00    0.68    0.00     0.0\n",
       "3    0.99    0.84    0.96    0.91    0.63    0.96     1.0\n",
       "4    0.99    0.84    0.96    0.91    0.63    0.00     0.0"
      ]
     },
     "execution_count": 4,
     "metadata": {},
     "output_type": "execute_result"
    }
   ],
   "source": [
    "# Create dataframe from files\n",
    "df = pd.DataFrame()\n",
    "\n",
    "for file in filelist:\n",
    "    filename = targetdir+file\n",
    "    col_name = [file]\n",
    "    temp_df = pd.read_csv(filename,names=col_name)    \n",
    "    df = pd.concat([df, temp_df], axis=1)\n",
    "    \n",
    "# Look at the data\n",
    "df.head()"
   ]
  },
  {
   "cell_type": "code",
   "execution_count": 5,
   "metadata": {},
   "outputs": [],
   "source": [
    "# Clip values > 1 with 1 and ignore 0s\n",
    "df.mask(df > 1, 1, inplace=True)\n",
    "df.mask(df <= 0, np.NaN, inplace=True)"
   ]
  },
  {
   "cell_type": "code",
   "execution_count": 6,
   "metadata": {},
   "outputs": [
    {
     "data": {
      "text/plain": [
       "1.data      0\n",
       "2.data      0\n",
       "3.data    324\n",
       "4.data    324\n",
       "5.data      0\n",
       "6.data    297\n",
       "7.data    324\n",
       "dtype: int64"
      ]
     },
     "execution_count": 6,
     "metadata": {},
     "output_type": "execute_result"
    }
   ],
   "source": [
    "# Count NaN values\n",
    "df.isna().sum()"
   ]
  },
  {
   "cell_type": "code",
   "execution_count": 7,
   "metadata": {},
   "outputs": [],
   "source": [
    "# Ignore invalid values by dropping them from the dataframe\n",
    "df = df.dropna()"
   ]
  },
  {
   "cell_type": "code",
   "execution_count": 8,
   "metadata": {},
   "outputs": [
    {
     "data": {
      "text/html": [
       "<div>\n",
       "<style scoped>\n",
       "    .dataframe tbody tr th:only-of-type {\n",
       "        vertical-align: middle;\n",
       "    }\n",
       "\n",
       "    .dataframe tbody tr th {\n",
       "        vertical-align: top;\n",
       "    }\n",
       "\n",
       "    .dataframe thead th {\n",
       "        text-align: right;\n",
       "    }\n",
       "</style>\n",
       "<table border=\"1\" class=\"dataframe\">\n",
       "  <thead>\n",
       "    <tr style=\"text-align: right;\">\n",
       "      <th></th>\n",
       "      <th>1.data</th>\n",
       "      <th>2.data</th>\n",
       "      <th>3.data</th>\n",
       "      <th>4.data</th>\n",
       "      <th>5.data</th>\n",
       "      <th>6.data</th>\n",
       "      <th>7.data</th>\n",
       "    </tr>\n",
       "  </thead>\n",
       "  <tbody>\n",
       "    <tr>\n",
       "      <th>0</th>\n",
       "      <td>1.00</td>\n",
       "      <td>0.92</td>\n",
       "      <td>1.00</td>\n",
       "      <td>1.00</td>\n",
       "      <td>0.68</td>\n",
       "      <td>1.00</td>\n",
       "      <td>1.00</td>\n",
       "    </tr>\n",
       "    <tr>\n",
       "      <th>3</th>\n",
       "      <td>0.99</td>\n",
       "      <td>0.84</td>\n",
       "      <td>0.96</td>\n",
       "      <td>0.91</td>\n",
       "      <td>0.63</td>\n",
       "      <td>0.96</td>\n",
       "      <td>1.00</td>\n",
       "    </tr>\n",
       "    <tr>\n",
       "      <th>6</th>\n",
       "      <td>0.99</td>\n",
       "      <td>0.77</td>\n",
       "      <td>0.91</td>\n",
       "      <td>0.84</td>\n",
       "      <td>0.58</td>\n",
       "      <td>0.53</td>\n",
       "      <td>1.00</td>\n",
       "    </tr>\n",
       "    <tr>\n",
       "      <th>9</th>\n",
       "      <td>1.00</td>\n",
       "      <td>0.92</td>\n",
       "      <td>1.00</td>\n",
       "      <td>1.00</td>\n",
       "      <td>0.69</td>\n",
       "      <td>1.00</td>\n",
       "      <td>1.00</td>\n",
       "    </tr>\n",
       "    <tr>\n",
       "      <th>12</th>\n",
       "      <td>1.00</td>\n",
       "      <td>0.85</td>\n",
       "      <td>0.97</td>\n",
       "      <td>0.92</td>\n",
       "      <td>0.64</td>\n",
       "      <td>0.97</td>\n",
       "      <td>1.00</td>\n",
       "    </tr>\n",
       "    <tr>\n",
       "      <th>...</th>\n",
       "      <td>...</td>\n",
       "      <td>...</td>\n",
       "      <td>...</td>\n",
       "      <td>...</td>\n",
       "      <td>...</td>\n",
       "      <td>...</td>\n",
       "      <td>...</td>\n",
       "    </tr>\n",
       "    <tr>\n",
       "      <th>718</th>\n",
       "      <td>0.99</td>\n",
       "      <td>0.79</td>\n",
       "      <td>0.99</td>\n",
       "      <td>0.99</td>\n",
       "      <td>0.58</td>\n",
       "      <td>0.54</td>\n",
       "      <td>0.99</td>\n",
       "    </tr>\n",
       "    <tr>\n",
       "      <th>719</th>\n",
       "      <td>0.99</td>\n",
       "      <td>0.79</td>\n",
       "      <td>0.99</td>\n",
       "      <td>0.99</td>\n",
       "      <td>0.58</td>\n",
       "      <td>0.54</td>\n",
       "      <td>0.99</td>\n",
       "    </tr>\n",
       "    <tr>\n",
       "      <th>726</th>\n",
       "      <td>1.00</td>\n",
       "      <td>0.79</td>\n",
       "      <td>1.00</td>\n",
       "      <td>1.00</td>\n",
       "      <td>0.58</td>\n",
       "      <td>0.54</td>\n",
       "      <td>1.00</td>\n",
       "    </tr>\n",
       "    <tr>\n",
       "      <th>727</th>\n",
       "      <td>1.00</td>\n",
       "      <td>0.79</td>\n",
       "      <td>1.00</td>\n",
       "      <td>1.00</td>\n",
       "      <td>0.58</td>\n",
       "      <td>0.54</td>\n",
       "      <td>1.00</td>\n",
       "    </tr>\n",
       "    <tr>\n",
       "      <th>728</th>\n",
       "      <td>1.00</td>\n",
       "      <td>0.79</td>\n",
       "      <td>1.00</td>\n",
       "      <td>1.00</td>\n",
       "      <td>0.58</td>\n",
       "      <td>0.54</td>\n",
       "      <td>1.00</td>\n",
       "    </tr>\n",
       "  </tbody>\n",
       "</table>\n",
       "<p>324 rows × 7 columns</p>\n",
       "</div>"
      ],
      "text/plain": [
       "     1.data  2.data  3.data  4.data  5.data  6.data  7.data\n",
       "0      1.00    0.92    1.00    1.00    0.68    1.00    1.00\n",
       "3      0.99    0.84    0.96    0.91    0.63    0.96    1.00\n",
       "6      0.99    0.77    0.91    0.84    0.58    0.53    1.00\n",
       "9      1.00    0.92    1.00    1.00    0.69    1.00    1.00\n",
       "12     1.00    0.85    0.97    0.92    0.64    0.97    1.00\n",
       "..      ...     ...     ...     ...     ...     ...     ...\n",
       "718    0.99    0.79    0.99    0.99    0.58    0.54    0.99\n",
       "719    0.99    0.79    0.99    0.99    0.58    0.54    0.99\n",
       "726    1.00    0.79    1.00    1.00    0.58    0.54    1.00\n",
       "727    1.00    0.79    1.00    1.00    0.58    0.54    1.00\n",
       "728    1.00    0.79    1.00    1.00    0.58    0.54    1.00\n",
       "\n",
       "[324 rows x 7 columns]"
      ]
     },
     "execution_count": 8,
     "metadata": {},
     "output_type": "execute_result"
    }
   ],
   "source": [
    "df"
   ]
  },
  {
   "cell_type": "code",
   "execution_count": 9,
   "metadata": {},
   "outputs": [],
   "source": [
    "# Save processed dataframe as csv file\n",
    "df.to_csv(\"../../data/processed/\" + source +\".csv\",index=False)"
   ]
  },
  {
   "cell_type": "code",
   "execution_count": 10,
   "metadata": {},
   "outputs": [],
   "source": [
    "# Creating ranked dataframe\n",
    "ranked_df = pd.DataFrame()\n",
    "stats_df = pd.DataFrame()"
   ]
  },
  {
   "cell_type": "code",
   "execution_count": 11,
   "metadata": {},
   "outputs": [
    {
     "data": {
      "text/plain": [
       "324"
      ]
     },
     "execution_count": 11,
     "metadata": {},
     "output_type": "execute_result"
    }
   ],
   "source": [
    "# Creating scenario quantity variable\n",
    "tao = len(df)\n",
    "tao"
   ]
  },
  {
   "cell_type": "markdown",
   "metadata": {},
   "source": [
    "## Ranking of WWTP"
   ]
  },
  {
   "cell_type": "code",
   "execution_count": 12,
   "metadata": {},
   "outputs": [
    {
     "name": "stdout",
     "output_type": "stream",
     "text": [
      "WWTP 1 Mean = 0.994 Maximum = 1.0 Minimum = 0.98 Amplitude (max-min)(%) = 2.0\n",
      "ek = 162\n",
      "WWTP 1 | ek = 162 | R1k = 0.5 | Sk = 322.08 | R2k = 0.988\n",
      "WWTP 2 Mean = 0.827 Maximum = 0.93 Minimum = 0.77 Amplitude (max-min)(%) = 16.0\n",
      "ek = 0\n",
      "WWTP 2 | ek = 0 | R1k = 0.0 | Sk = 268.02 | R2k = 0.827\n",
      "WWTP 3 Mean = 0.966 Maximum = 1.0 Minimum = 0.88 Amplitude (max-min)(%) = 12.0\n",
      "ek = 108\n",
      "WWTP 3 | ek = 108 | R1k = 0.333 | Sk = 313.08 | R2k = 0.949\n",
      "WWTP 4 Mean = 0.944 Maximum = 1.0 Minimum = 0.83 Amplitude (max-min)(%) = 17.0\n",
      "ek = 108\n",
      "WWTP 4 | ek = 108 | R1k = 0.333 | Sk = 305.7 | R2k = 0.915\n",
      "WWTP 5 Mean = 0.617 Maximum = 0.7 Minimum = 0.57 Amplitude (max-min)(%) = 13.0\n",
      "ek = 0\n",
      "WWTP 5 | ek = 0 | R1k = 0.0 | Sk = 199.86 | R2k = 0.617\n",
      "WWTP 6 Mean = 0.736 Maximum = 1.0 Minimum = 0.53 Amplitude (max-min)(%) = 47.0\n",
      "ek = 36\n",
      "WWTP 6 | ek = 36 | R1k = 0.111 | Sk = 238.31 | R2k = 0.702\n",
      "WWTP 7 Mean = 0.997 Maximum = 1.0 Minimum = 0.99 Amplitude (max-min)(%) = 1.0\n",
      "ek = 216\n",
      "WWTP 7 | ek = 216 | R1k = 0.667 | Sk = 322.92 | R2k = 0.99\n"
     ]
    }
   ],
   "source": [
    "for column in df:    \n",
    "    wwtp = column[0]\n",
    "    \n",
    "    # TODO: get original (pre-analysis) value\n",
    "    # pending\n",
    "    \n",
    "    # calculate mean \n",
    "    avg_eff = round(df[column].mean(),3)\n",
    "    \n",
    "    # calculate max\n",
    "    max_eff = round(df[column].max(),3)\n",
    "    \n",
    "    # calculate min\n",
    "    min_eff = round(df[column].min(),3)\n",
    "    \n",
    "    # calculate amplitude \n",
    "    amplitude = round((max_eff - min_eff)*100,2)\n",
    "    \n",
    "    amp_str = \"Amplitude (max-min)(%)\"\n",
    "    \n",
    "    # print stats results\n",
    "    print(\"WWTP\", wwtp,\"Mean =\",avg_eff,\"Maximum =\",max_eff,\"Minimum =\",min_eff, amp_str,\"=\",amplitude)\n",
    "    stats_df = stats_df.append({ 'WWTP': wwtp, \"Mean\": avg_eff, \"Maximum\" : max_eff, \"Minimum\": min_eff, amp_str: amplitude},ignore_index=True)\n",
    "    \n",
    "    \n",
    "    # TODO: Populate statistics dataframe using pd.df.append\n",
    "    \n",
    "    # Calculating Sk sum of factors\n",
    "    Sk = round(df[column].sum(),3)    \n",
    "    \n",
    "    # Calculating ek sum of factors of 1 (or above if errors in calculation)\n",
    "    ek = df[column] >= 1\n",
    "    ek = ek.sum()\n",
    "    print(\"ek =\",ek)\n",
    "    \n",
    "    # Calculating R1k ek/tao\n",
    "    R1k = round(ek/tao,3)\n",
    "    \n",
    "    # Calculate R2k\n",
    "    if tao != ek:\n",
    "        R2k = (Sk - ek)/(tao - ek)\n",
    "    elif R1k == 1:\n",
    "        R2k = 0\n",
    "        \n",
    "    R2k = round(R2k,3)\n",
    "    \n",
    "    # Printing results\n",
    "    print(\"WWTP\", wwtp,\"| ek =\",ek,\"| R1k =\",R1k, \"| Sk =\",Sk, \"| R2k =\",R2k)    \n",
    "    \n",
    "    # Populate ranking dataframe using pd.df.append\n",
    "    # Using unicode to name columns with super and subscripts\n",
    "    R1k_col = 'R\\u00B9\\u2096\\u2080'\n",
    "    R2k_col = 'R\\u00B2\\u2096\\u2080'\n",
    "    ranked_df = ranked_df.append({ R2k_col:R2k, R1k_col: R1k,'WWTP': wwtp},ignore_index=True)"
   ]
  },
  {
   "cell_type": "code",
   "execution_count": 13,
   "metadata": {},
   "outputs": [],
   "source": [
    "# Reorder columns to be usable as a results table\n",
    "ranked_df = ranked_df.reindex(columns=['WWTP',R1k_col, R2k_col])"
   ]
  },
  {
   "cell_type": "code",
   "execution_count": 14,
   "metadata": {},
   "outputs": [
    {
     "data": {
      "text/html": [
       "<div>\n",
       "<style scoped>\n",
       "    .dataframe tbody tr th:only-of-type {\n",
       "        vertical-align: middle;\n",
       "    }\n",
       "\n",
       "    .dataframe tbody tr th {\n",
       "        vertical-align: top;\n",
       "    }\n",
       "\n",
       "    .dataframe thead th {\n",
       "        text-align: right;\n",
       "    }\n",
       "</style>\n",
       "<table border=\"1\" class=\"dataframe\">\n",
       "  <thead>\n",
       "    <tr style=\"text-align: right;\">\n",
       "      <th></th>\n",
       "      <th>WWTP</th>\n",
       "      <th>R¹ₖ₀</th>\n",
       "      <th>R²ₖ₀</th>\n",
       "    </tr>\n",
       "  </thead>\n",
       "  <tbody>\n",
       "    <tr>\n",
       "      <th>0</th>\n",
       "      <td>1</td>\n",
       "      <td>0.500</td>\n",
       "      <td>0.988</td>\n",
       "    </tr>\n",
       "    <tr>\n",
       "      <th>1</th>\n",
       "      <td>2</td>\n",
       "      <td>0.000</td>\n",
       "      <td>0.827</td>\n",
       "    </tr>\n",
       "    <tr>\n",
       "      <th>2</th>\n",
       "      <td>3</td>\n",
       "      <td>0.333</td>\n",
       "      <td>0.949</td>\n",
       "    </tr>\n",
       "    <tr>\n",
       "      <th>3</th>\n",
       "      <td>4</td>\n",
       "      <td>0.333</td>\n",
       "      <td>0.915</td>\n",
       "    </tr>\n",
       "    <tr>\n",
       "      <th>4</th>\n",
       "      <td>5</td>\n",
       "      <td>0.000</td>\n",
       "      <td>0.617</td>\n",
       "    </tr>\n",
       "    <tr>\n",
       "      <th>5</th>\n",
       "      <td>6</td>\n",
       "      <td>0.111</td>\n",
       "      <td>0.702</td>\n",
       "    </tr>\n",
       "    <tr>\n",
       "      <th>6</th>\n",
       "      <td>7</td>\n",
       "      <td>0.667</td>\n",
       "      <td>0.990</td>\n",
       "    </tr>\n",
       "  </tbody>\n",
       "</table>\n",
       "</div>"
      ],
      "text/plain": [
       "  WWTP   R¹ₖ₀   R²ₖ₀\n",
       "0    1  0.500  0.988\n",
       "1    2  0.000  0.827\n",
       "2    3  0.333  0.949\n",
       "3    4  0.333  0.915\n",
       "4    5  0.000  0.617\n",
       "5    6  0.111  0.702\n",
       "6    7  0.667  0.990"
      ]
     },
     "execution_count": 14,
     "metadata": {},
     "output_type": "execute_result"
    }
   ],
   "source": [
    "ranked_df"
   ]
  },
  {
   "cell_type": "code",
   "execution_count": 15,
   "metadata": {},
   "outputs": [
    {
     "name": "stdout",
     "output_type": "stream",
     "text": [
      "Save succesful\n"
     ]
    }
   ],
   "source": [
    "import os\n",
    "\n",
    "path = \"../../results/\" + source + \"/\"\n",
    "\n",
    "# Save rankings dataframe as csv file\n",
    "\n",
    "try:\n",
    "    ranked_df.to_csv(path + \"ranking.csv\",index=False)\n",
    "    print(\"Save succesful\")\n",
    "except:\n",
    "    print(\"Creating folder and saving\")\n",
    "    os.mkdir(path)\n",
    "    ranked_df.to_csv(path + \"ranking.csv\",index=False)"
   ]
  },
  {
   "cell_type": "markdown",
   "metadata": {},
   "source": [
    "## Calculate Descriptive Statistics"
   ]
  },
  {
   "cell_type": "code",
   "execution_count": 16,
   "metadata": {},
   "outputs": [],
   "source": [
    "# Calculate the mean of every column\n",
    "mean_mean = round(stats_df.Mean.mean(),3)\n",
    "mean_max = round(stats_df.Maximum.mean(),3)\n",
    "mean_min = round(stats_df.Minimum.mean(),3)\n",
    "mean_amp = round(stats_df[amp_str].mean(),3)"
   ]
  },
  {
   "cell_type": "code",
   "execution_count": 17,
   "metadata": {},
   "outputs": [],
   "source": [
    "# Add means to stats dataframe\n",
    "stats_df = stats_df.append({ 'WWTP': \"Mean\", \"Mean\" : mean_mean, \"Maximum\" : mean_max, \n",
    "                            \"Minimum\" : mean_min, amp_str : mean_amp},ignore_index=True)"
   ]
  },
  {
   "cell_type": "code",
   "execution_count": 18,
   "metadata": {},
   "outputs": [],
   "source": [
    "# Calculate the standard deviation of every column\n",
    "sd_mean = round(stats_df.Mean.std(),3)\n",
    "sd_max = round(stats_df.Maximum.std(),3)\n",
    "sd_min = round(stats_df.Minimum.std(),3)\n",
    "sd_amp = round(stats_df[amp_str].std(),3)"
   ]
  },
  {
   "cell_type": "code",
   "execution_count": 19,
   "metadata": {},
   "outputs": [],
   "source": [
    "# Add means to stats dataframe\n",
    "stats_df = stats_df.append({ 'WWTP': \"SD\", \"Mean\" : sd_mean, \"Maximum\" : sd_max, \n",
    "                            \"Minimum\" : sd_min, amp_str : sd_amp},ignore_index=True)"
   ]
  },
  {
   "cell_type": "code",
   "execution_count": 20,
   "metadata": {},
   "outputs": [],
   "source": [
    "# Reorder columns\n",
    "stats_df = stats_df.reindex(columns=[\"WWTP\", \"Mean\", \"Maximum\", \"Minimum\", amp_str])"
   ]
  },
  {
   "cell_type": "code",
   "execution_count": 21,
   "metadata": {},
   "outputs": [
    {
     "data": {
      "text/html": [
       "<div>\n",
       "<style scoped>\n",
       "    .dataframe tbody tr th:only-of-type {\n",
       "        vertical-align: middle;\n",
       "    }\n",
       "\n",
       "    .dataframe tbody tr th {\n",
       "        vertical-align: top;\n",
       "    }\n",
       "\n",
       "    .dataframe thead th {\n",
       "        text-align: right;\n",
       "    }\n",
       "</style>\n",
       "<table border=\"1\" class=\"dataframe\">\n",
       "  <thead>\n",
       "    <tr style=\"text-align: right;\">\n",
       "      <th></th>\n",
       "      <th>WWTP</th>\n",
       "      <th>Mean</th>\n",
       "      <th>Maximum</th>\n",
       "      <th>Minimum</th>\n",
       "      <th>Amplitude (max-min)(%)</th>\n",
       "    </tr>\n",
       "  </thead>\n",
       "  <tbody>\n",
       "    <tr>\n",
       "      <th>0</th>\n",
       "      <td>1</td>\n",
       "      <td>0.994</td>\n",
       "      <td>1.000</td>\n",
       "      <td>0.980</td>\n",
       "      <td>2.000</td>\n",
       "    </tr>\n",
       "    <tr>\n",
       "      <th>1</th>\n",
       "      <td>2</td>\n",
       "      <td>0.827</td>\n",
       "      <td>0.930</td>\n",
       "      <td>0.770</td>\n",
       "      <td>16.000</td>\n",
       "    </tr>\n",
       "    <tr>\n",
       "      <th>2</th>\n",
       "      <td>3</td>\n",
       "      <td>0.966</td>\n",
       "      <td>1.000</td>\n",
       "      <td>0.880</td>\n",
       "      <td>12.000</td>\n",
       "    </tr>\n",
       "    <tr>\n",
       "      <th>3</th>\n",
       "      <td>4</td>\n",
       "      <td>0.944</td>\n",
       "      <td>1.000</td>\n",
       "      <td>0.830</td>\n",
       "      <td>17.000</td>\n",
       "    </tr>\n",
       "    <tr>\n",
       "      <th>4</th>\n",
       "      <td>5</td>\n",
       "      <td>0.617</td>\n",
       "      <td>0.700</td>\n",
       "      <td>0.570</td>\n",
       "      <td>13.000</td>\n",
       "    </tr>\n",
       "    <tr>\n",
       "      <th>5</th>\n",
       "      <td>6</td>\n",
       "      <td>0.736</td>\n",
       "      <td>1.000</td>\n",
       "      <td>0.530</td>\n",
       "      <td>47.000</td>\n",
       "    </tr>\n",
       "    <tr>\n",
       "      <th>6</th>\n",
       "      <td>7</td>\n",
       "      <td>0.997</td>\n",
       "      <td>1.000</td>\n",
       "      <td>0.990</td>\n",
       "      <td>1.000</td>\n",
       "    </tr>\n",
       "    <tr>\n",
       "      <th>7</th>\n",
       "      <td>Mean</td>\n",
       "      <td>0.869</td>\n",
       "      <td>0.947</td>\n",
       "      <td>0.793</td>\n",
       "      <td>15.429</td>\n",
       "    </tr>\n",
       "    <tr>\n",
       "      <th>8</th>\n",
       "      <td>SD</td>\n",
       "      <td>0.136</td>\n",
       "      <td>0.104</td>\n",
       "      <td>0.170</td>\n",
       "      <td>14.171</td>\n",
       "    </tr>\n",
       "  </tbody>\n",
       "</table>\n",
       "</div>"
      ],
      "text/plain": [
       "   WWTP   Mean  Maximum  Minimum  Amplitude (max-min)(%)\n",
       "0     1  0.994    1.000    0.980                   2.000\n",
       "1     2  0.827    0.930    0.770                  16.000\n",
       "2     3  0.966    1.000    0.880                  12.000\n",
       "3     4  0.944    1.000    0.830                  17.000\n",
       "4     5  0.617    0.700    0.570                  13.000\n",
       "5     6  0.736    1.000    0.530                  47.000\n",
       "6     7  0.997    1.000    0.990                   1.000\n",
       "7  Mean  0.869    0.947    0.793                  15.429\n",
       "8    SD  0.136    0.104    0.170                  14.171"
      ]
     },
     "execution_count": 21,
     "metadata": {},
     "output_type": "execute_result"
    }
   ],
   "source": [
    "stats_df"
   ]
  },
  {
   "cell_type": "code",
   "execution_count": 22,
   "metadata": {},
   "outputs": [],
   "source": [
    "# Save statistics dataframe as csv file\n",
    "stats_df.to_csv(path + \"statistics.csv\",index=False)"
   ]
  },
  {
   "cell_type": "code",
   "execution_count": 23,
   "metadata": {},
   "outputs": [
    {
     "name": "stdout",
     "output_type": "stream",
     "text": [
      "[NbConvertApp] Converting notebook clip-max-ignore-zeros-custom.ipynb to pdf\n",
      "[NbConvertApp] Writing 45170 bytes to ./notebook.tex\n",
      "[NbConvertApp] Building PDF\n",
      "[NbConvertApp] Running xelatex 3 times: ['xelatex', './notebook.tex', '-quiet']\n",
      "[NbConvertApp] Running bibtex 1 time: ['bibtex', './notebook']\n",
      "[NbConvertApp] WARNING | bibtex had problems, most likely because there were no citations\n",
      "[NbConvertApp] PDF successfully created\n",
      "[NbConvertApp] Writing 47177 bytes to ../../results/8a/clip-max-ignore-zeros-custom.pdf\n"
     ]
    }
   ],
   "source": [
    "# Convert Jupyter Notebook to PDF LaTeX file\n",
    "!jupyter-nbconvert --to pdf \"clip-max-ignore-zeros-custom.ipynb\" --output-dir \"../../results/8a/\""
   ]
  },
  {
   "cell_type": "code",
   "execution_count": null,
   "metadata": {},
   "outputs": [],
   "source": []
  }
 ],
 "metadata": {
  "kernelspec": {
   "display_name": "Python 3",
   "language": "python",
   "name": "python3"
  },
  "language_info": {
   "codemirror_mode": {
    "name": "ipython",
    "version": 3
   },
   "file_extension": ".py",
   "mimetype": "text/x-python",
   "name": "python",
   "nbconvert_exporter": "python",
   "pygments_lexer": "ipython3",
   "version": "3.7.6"
  }
 },
 "nbformat": 4,
 "nbformat_minor": 4
}
