{
 "cells": [
  {
   "cell_type": "code",
   "execution_count": 17,
   "metadata": {},
   "outputs": [],
   "source": [
    "#Importing libraries\n",
    "import pandas as pd\n",
    "import numpy as np\n",
    "from scipy.optimize import fmin_slsqp\n",
    "import matplotlib.pyplot as plt\n",
    "import os\n",
    "from pprint import pprint\n",
    "import random"
   ]
  },
  {
   "cell_type": "code",
   "execution_count": 18,
   "metadata": {},
   "outputs": [
    {
     "data": {
      "text/html": [
       "<div>\n",
       "<style scoped>\n",
       "    .dataframe tbody tr th:only-of-type {\n",
       "        vertical-align: middle;\n",
       "    }\n",
       "\n",
       "    .dataframe tbody tr th {\n",
       "        vertical-align: top;\n",
       "    }\n",
       "\n",
       "    .dataframe thead th {\n",
       "        text-align: right;\n",
       "    }\n",
       "</style>\n",
       "<table border=\"1\" class=\"dataframe\">\n",
       "  <thead>\n",
       "    <tr style=\"text-align: right;\">\n",
       "      <th></th>\n",
       "      <th>dmu</th>\n",
       "      <th>x1</th>\n",
       "      <th>y1</th>\n",
       "      <th>y2</th>\n",
       "      <th>y3</th>\n",
       "      <th>y4</th>\n",
       "    </tr>\n",
       "  </thead>\n",
       "  <tbody>\n",
       "    <tr>\n",
       "      <th>0</th>\n",
       "      <td>Begues 2015</td>\n",
       "      <td>832,132</td>\n",
       "      <td>93</td>\n",
       "      <td>426</td>\n",
       "      <td>2489</td>\n",
       "      <td>468</td>\n",
       "    </tr>\n",
       "    <tr>\n",
       "      <th>1</th>\n",
       "      <td>Gavà 2015</td>\n",
       "      <td>33,150,060</td>\n",
       "      <td>5,378</td>\n",
       "      <td>25110</td>\n",
       "      <td>121109</td>\n",
       "      <td>48289</td>\n",
       "    </tr>\n",
       "    <tr>\n",
       "      <th>2</th>\n",
       "      <td>Prat 2015</td>\n",
       "      <td>211,317,326</td>\n",
       "      <td>35,205</td>\n",
       "      <td>161618</td>\n",
       "      <td>676276</td>\n",
       "      <td>244157</td>\n",
       "    </tr>\n",
       "    <tr>\n",
       "      <th>3</th>\n",
       "      <td>Sant Feliu 2015</td>\n",
       "      <td>42,607,803</td>\n",
       "      <td>5,251</td>\n",
       "      <td>23991</td>\n",
       "      <td>109347</td>\n",
       "      <td>21591</td>\n",
       "    </tr>\n",
       "    <tr>\n",
       "      <th>4</th>\n",
       "      <td>Vallvidrera 2015</td>\n",
       "      <td>632,936</td>\n",
       "      <td>64</td>\n",
       "      <td>289</td>\n",
       "      <td>1673</td>\n",
       "      <td>172</td>\n",
       "    </tr>\n",
       "    <tr>\n",
       "      <th>5</th>\n",
       "      <td>Begues 2016</td>\n",
       "      <td>815,129</td>\n",
       "      <td>94</td>\n",
       "      <td>426</td>\n",
       "      <td>331</td>\n",
       "      <td>424</td>\n",
       "    </tr>\n",
       "    <tr>\n",
       "      <th>6</th>\n",
       "      <td>Gavà 2016</td>\n",
       "      <td>33,666,128</td>\n",
       "      <td>4971</td>\n",
       "      <td>22977</td>\n",
       "      <td>15007</td>\n",
       "      <td>19978</td>\n",
       "    </tr>\n",
       "    <tr>\n",
       "      <th>7</th>\n",
       "      <td>Besòs 2016</td>\n",
       "      <td>301,775,325</td>\n",
       "      <td>70763</td>\n",
       "      <td>324038</td>\n",
       "      <td>57037</td>\n",
       "      <td>127800</td>\n",
       "    </tr>\n",
       "    <tr>\n",
       "      <th>8</th>\n",
       "      <td>Prat 2016</td>\n",
       "      <td>218,026,552</td>\n",
       "      <td>52591</td>\n",
       "      <td>239666</td>\n",
       "      <td>114975</td>\n",
       "      <td>167566</td>\n",
       "    </tr>\n",
       "    <tr>\n",
       "      <th>9</th>\n",
       "      <td>Montcada 2016</td>\n",
       "      <td>43,381,288</td>\n",
       "      <td>6450</td>\n",
       "      <td>29923</td>\n",
       "      <td>10246</td>\n",
       "      <td>16696</td>\n",
       "    </tr>\n",
       "    <tr>\n",
       "      <th>10</th>\n",
       "      <td>Sant Feliu 2016</td>\n",
       "      <td>43,638,006</td>\n",
       "      <td>4639</td>\n",
       "      <td>21205</td>\n",
       "      <td>13319</td>\n",
       "      <td>17958</td>\n",
       "    </tr>\n",
       "    <tr>\n",
       "      <th>11</th>\n",
       "      <td>Vallvidrera 2016</td>\n",
       "      <td>650,430</td>\n",
       "      <td>59</td>\n",
       "      <td>270</td>\n",
       "      <td>206</td>\n",
       "      <td>265</td>\n",
       "    </tr>\n",
       "  </tbody>\n",
       "</table>\n",
       "</div>"
      ],
      "text/plain": [
       "                 dmu           x1      y1      y2      y3      y4\n",
       "0        Begues 2015      832,132      93     426    2489     468\n",
       "1          Gavà 2015   33,150,060   5,378   25110  121109   48289\n",
       "2          Prat 2015  211,317,326  35,205  161618  676276  244157\n",
       "3    Sant Feliu 2015   42,607,803   5,251   23991  109347   21591\n",
       "4   Vallvidrera 2015      632,936      64     289    1673     172\n",
       "5        Begues 2016      815,129      94     426     331     424\n",
       "6          Gavà 2016   33,666,128    4971   22977   15007   19978\n",
       "7         Besòs 2016  301,775,325   70763  324038   57037  127800\n",
       "8          Prat 2016  218,026,552   52591  239666  114975  167566\n",
       "9      Montcada 2016   43,381,288    6450   29923   10246   16696\n",
       "10   Sant Feliu 2016   43,638,006    4639   21205   13319   17958\n",
       "11  Vallvidrera 2016      650,430      59     270     206     265"
      ]
     },
     "execution_count": 18,
     "metadata": {},
     "output_type": "execute_result"
    }
   ],
   "source": [
    "#Loading df\n",
    "df = pd.read_csv('./data/eco-amb.csv') #skiprows = 1)\n",
    "#df = df.drop(df.loc[:,['name', 'pft']].head(0).columns, axis=1)\n",
    "df #where xs are input vars and ys are output vars"
   ]
  },
  {
   "cell_type": "code",
   "execution_count": 19,
   "metadata": {},
   "outputs": [],
   "source": [
    "# Creating the first equation c1 for x1\n",
    "c1 = \"\"\n",
    "for i in range(len(df.x1)):\n",
    "    c1 = c1 + str(df.x1[i]) + \" * \" + \"lam\"+str(i+1)\n",
    "    if i != len(df.x1)-1:\n",
    "        c1 = c1 + \" + \"     "
   ]
  },
  {
   "cell_type": "code",
   "execution_count": 20,
   "metadata": {},
   "outputs": [],
   "source": [
    "c1 = c1 + \" <= \" + str(df.x1[0]) + \" * t;\""
   ]
  },
  {
   "cell_type": "code",
   "execution_count": 25,
   "metadata": {},
   "outputs": [],
   "source": [
    "# Creating the second equation c2 for y1\n",
    "c2 = \"\"\n",
    "for i in range(len(df.y1)):\n",
    "    c2 = c2 + str(df.y1[i]) + \" * \" + \"lam\"+str(i+1)\n",
    "    if i != len(df.y1)-1:\n",
    "        c2 = c2 + \" + \"   "
   ]
  },
  {
   "cell_type": "code",
   "execution_count": 26,
   "metadata": {},
   "outputs": [],
   "source": [
    "c2 = c2 + \" >= \" + str(df.y1[0]) + \";\""
   ]
  },
  {
   "cell_type": "code",
   "execution_count": 28,
   "metadata": {},
   "outputs": [],
   "source": [
    "# Creating the second equation c3 for y2\n",
    "c3 = \"\"\n",
    "for i in range(len(df.y2)):\n",
    "    c3 = c3 + str(df.y2[i]) + \" * \" + \"lam\"+str(i+1)\n",
    "    if i != len(df.y2)-1:\n",
    "        c3 = c3 + \" + \"   "
   ]
  },
  {
   "cell_type": "code",
   "execution_count": 29,
   "metadata": {},
   "outputs": [],
   "source": [
    "c3 = c3 + \" >= \" + str(df.y2[0]) + \";\""
   ]
  },
  {
   "cell_type": "code",
   "execution_count": 14,
   "metadata": {},
   "outputs": [],
   "source": [
    "# Creating the second equation c4 for y3\n",
    "c4 = \"\"\n",
    "for i in range(len(df.y3)):\n",
    "    c4 = c4 + str(df.y3[i]) + \" * \" + \"lam\"+str(i+1)\n",
    "    if i != len(df.y3)-1:\n",
    "        c4 = c4 + \" + \"   "
   ]
  },
  {
   "cell_type": "code",
   "execution_count": 31,
   "metadata": {},
   "outputs": [],
   "source": [
    "c4 = c4 + \" >= \" + str(df.y3[0]) + \";\""
   ]
  },
  {
   "cell_type": "code",
   "execution_count": 39,
   "metadata": {},
   "outputs": [],
   "source": [
    "# Creating the second equation c5 for y4 or b1 (undesirable outputs)\n",
    "c5 = \"\"\n",
    "# Creating the last equation\n",
    "c6 = \"\"\n",
    "for i in range(len(df.y4)):\n",
    "    c5 = c5 + str(df.y4[i]) + \" * \" + \"lam\"+str(i+1)\n",
    "    c6 = c6 + \"lam\"+str(i+1)\n",
    "    if i != len(df.y4)-1:\n",
    "        c5 = c5 + \" + \"   \n",
    "        c6 = c6 + \" + \"   "
   ]
  },
  {
   "cell_type": "code",
   "execution_count": 40,
   "metadata": {},
   "outputs": [],
   "source": [
    "c5 = c5 + \" = \" + str(df.y4[0]) + \";\""
   ]
  },
  {
   "cell_type": "code",
   "execution_count": 42,
   "metadata": {},
   "outputs": [],
   "source": [
    "c6 = c6 + \" = 1;\""
   ]
  },
  {
   "cell_type": "code",
   "execution_count": 21,
   "metadata": {},
   "outputs": [
    {
     "data": {
      "text/plain": [
       "'832,132 * lam1 + 33,150,060 * lam2 + 211,317,326 * lam3 + 42,607,803 * lam4 + 632,936 * lam5 + 815,129 * lam6 + 33,666,128 * lam7 + 301,775,325 * lam8 + 218,026,552 * lam9 + 43,381,288 * lam10 + 43,638,006 * lam11 + 650,430 * lam12 <= 832,132 * t;'"
      ]
     },
     "execution_count": 21,
     "metadata": {},
     "output_type": "execute_result"
    }
   ],
   "source": [
    "c1"
   ]
  },
  {
   "cell_type": "code",
   "execution_count": 27,
   "metadata": {},
   "outputs": [
    {
     "data": {
      "text/plain": [
       "'93 * lam1 + 5,378 * lam2 + 35,205 * lam3 + 5,251 * lam4 + 64 * lam5 + 94 * lam6 + 4971 * lam7 + 70763 * lam8 + 52591 * lam9 + 6450 * lam10 + 4639 * lam11 + 59 * lam12 >= 93;'"
      ]
     },
     "execution_count": 27,
     "metadata": {},
     "output_type": "execute_result"
    }
   ],
   "source": [
    "c2"
   ]
  },
  {
   "cell_type": "code",
   "execution_count": 30,
   "metadata": {},
   "outputs": [
    {
     "data": {
      "text/plain": [
       "'426 * lam1 + 25110 * lam2 + 161618 * lam3 + 23991 * lam4 + 289 * lam5 + 426 * lam6 + 22977 * lam7 + 324038 * lam8 + 239666 * lam9 + 29923 * lam10 + 21205 * lam11 + 270 * lam12 >= 426;'"
      ]
     },
     "execution_count": 30,
     "metadata": {},
     "output_type": "execute_result"
    }
   ],
   "source": [
    "c3"
   ]
  },
  {
   "cell_type": "code",
   "execution_count": 32,
   "metadata": {},
   "outputs": [
    {
     "data": {
      "text/plain": [
       "'2489 * lam1 + 121109 * lam2 + 676276 * lam3 + 109347 * lam4 + 1673 * lam5 + 331 * lam6 + 15007 * lam7 + 57037 * lam8 + 114975 * lam9 + 10246 * lam10 + 13319 * lam11 + 206 * lam12 >= 2489;'"
      ]
     },
     "execution_count": 32,
     "metadata": {},
     "output_type": "execute_result"
    }
   ],
   "source": [
    "c4"
   ]
  },
  {
   "cell_type": "code",
   "execution_count": 38,
   "metadata": {},
   "outputs": [
    {
     "data": {
      "text/plain": [
       "'468 * lam1 + 48289 * lam2 + 244157 * lam3 + 21591 * lam4 + 172 * lam5 + 424 * lam6 + 19978 * lam7 + 127800 * lam8 + 167566 * lam9 + 16696 * lam10 + 17958 * lam11 + 265 * lam12 = 468;'"
      ]
     },
     "execution_count": 38,
     "metadata": {},
     "output_type": "execute_result"
    }
   ],
   "source": [
    "c5"
   ]
  },
  {
   "cell_type": "code",
   "execution_count": 43,
   "metadata": {},
   "outputs": [
    {
     "data": {
      "text/plain": [
       "'lam1 + lam2 + lam3 + lam4 + lam5 + lam6 + lam7 + lam8 + lam9 + lam10 + lam11 + lam12 = 1;'"
      ]
     },
     "execution_count": 43,
     "metadata": {},
     "output_type": "execute_result"
    }
   ],
   "source": [
    "c6"
   ]
  },
  {
   "cell_type": "code",
   "execution_count": null,
   "metadata": {},
   "outputs": [],
   "source": []
  }
 ],
 "metadata": {
  "kernelspec": {
   "display_name": "Python 3",
   "language": "python",
   "name": "python3"
  },
  "language_info": {
   "codemirror_mode": {
    "name": "ipython",
    "version": 3
   },
   "file_extension": ".py",
   "mimetype": "text/x-python",
   "name": "python",
   "nbconvert_exporter": "python",
   "pygments_lexer": "ipython3",
   "version": "3.7.6"
  }
 },
 "nbformat": 4,
 "nbformat_minor": 2
}
