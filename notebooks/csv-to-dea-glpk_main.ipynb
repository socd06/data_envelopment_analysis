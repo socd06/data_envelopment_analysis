{
 "cells": [
  {
   "cell_type": "code",
   "execution_count": 13,
   "metadata": {},
   "outputs": [],
   "source": [
    "#Importing libraries\n",
    "import pandas as pd"
   ]
  },
  {
   "cell_type": "code",
   "execution_count": 14,
   "metadata": {},
   "outputs": [
    {
     "name": "stdout",
     "output_type": "stream",
     "text": [
      "Path to csv file:\n",
      "./data/eco-amb.csv\n"
     ]
    }
   ],
   "source": [
    "filename = input(\"Path to csv file:\\n\")"
   ]
  },
  {
   "cell_type": "code",
   "execution_count": 15,
   "metadata": {},
   "outputs": [
    {
     "name": "stdout",
     "output_type": "stream",
     "text": [
      "Error: *.csv file not chosen or not in specified path.\n",
      "\n"
     ]
    }
   ],
   "source": [
    "try:\n",
    "    df = pd.read_csv(filename)\n",
    "    print(\"File\", filename, \"read succesfully.\\n\")\n",
    "except:\n",
    "    print(\"Error: *.csv file not chosen or not in specified path.\\n\")"
   ]
  },
  {
   "cell_type": "code",
   "execution_count": 16,
   "metadata": {},
   "outputs": [],
   "source": [
    "def equation_writer(dataframe):\n",
    "    # Creating a vector of text equations\n",
    "    eq = []\n",
    "\n",
    "    # Creating the file header made of variale initializations \n",
    "    hdr = []\n",
    "\n",
    "    # Creating the first equation c1 for x1\n",
    "    c1 = \"\"\n",
    "    for i in range(len(df.x1)):\n",
    "        c1 = c1 + str(df.x1[i]) + \" * \" + \"lam\"+str(i+1)\n",
    "        if i != len(df.x1)-1:\n",
    "            c1 = c1 + \" + \"     \n",
    "\n",
    "    c1 = c1 + \" <= \" + str(df.x1[0]) + \" * t;\"\n",
    "    eq.append(c1)\n",
    "\n",
    "    # Creating the second equation c2 for y1\n",
    "    c2 = \"\"\n",
    "    for i in range(len(df.y1)):\n",
    "        c2 = c2 + str(df.y1[i]) + \" * \" + \"lam\"+str(i+1)\n",
    "        if i != len(df.y1)-1:\n",
    "            c2 = c2 + \" + \"   \n",
    "\n",
    "    c2 = c2 + \" >= \" + str(df.y1[0]) + \";\"\n",
    "    eq.append(c2)\n",
    "\n",
    "    # Creating the second equation c3 for y2\n",
    "    c3 = \"\"\n",
    "    for i in range(len(df.y2)):\n",
    "        c3 = c3 + str(df.y2[i]) + \" * \" + \"lam\"+str(i+1)\n",
    "        if i != len(df.y2)-1:\n",
    "            c3 = c3 + \" + \"   \n",
    "\n",
    "    c3 = c3 + \" >= \" + str(df.y2[0]) + \";\"\n",
    "    eq.append(c3)\n",
    "\n",
    "    # Creating the second equation c4 for y3\n",
    "    c4 = \"\"\n",
    "    for i in range(len(df.y3)):\n",
    "        c4 = c4 + str(df.y3[i]) + \" * \" + \"lam\"+str(i+1)\n",
    "        if i != len(df.y3)-1:\n",
    "            c4 = c4 + \" + \"   \n",
    "\n",
    "    c4 = c4 + \" >= \" + str(df.y3[0]) + \";\"\n",
    "    eq.append(c4)\n",
    "\n",
    "    # Creating the second equation c5 for y4 or b1 (undesirable outputs)\n",
    "    c5 = \"\"\n",
    "    # Creating the last equation\n",
    "    c6 = \"\"\n",
    "    for i in range(len(df.y4)):\n",
    "        hdr.append(\"var lam\"+str(i+1)+\" >= 0;\")\n",
    "        c5 = c5 + str(df.y4[i]) + \" * \" + \"lam\"+str(i+1)\n",
    "        c6 = c6 + \"lam\"+str(i+1)\n",
    "        if i != len(df.y4)-1:\n",
    "            c5 = c5 + \" + \"   \n",
    "            c6 = c6 + \" + \"  \n",
    "\n",
    "    c5 = c5 + \" = \" + str(df.y4[0]) + \";\"\n",
    "    eq.append(c5)\n",
    "\n",
    "    c6 = c6 + \" = 1;\"\n",
    "    eq.append(c6)\n",
    "    print(hdr)\n",
    "    print(\"Equations compiled succesfully.\\n\")\n",
    "    return eq"
   ]
  },
  {
   "cell_type": "code",
   "execution_count": 17,
   "metadata": {},
   "outputs": [
    {
     "name": "stdout",
     "output_type": "stream",
     "text": [
      "Path to output file\n",
      "xxx.txt\n"
     ]
    }
   ],
   "source": [
    "output = input(\"Path to output file\\n\")"
   ]
  },
  {
   "cell_type": "code",
   "execution_count": 19,
   "metadata": {},
   "outputs": [
    {
     "name": "stdout",
     "output_type": "stream",
     "text": [
      "passed\n",
      "Error: Invalid file name.\n",
      "\n"
     ]
    }
   ],
   "source": [
    "#filepath = \"equation.txt\"\n",
    "filepath = output\n",
    "try:\n",
    "    with open(filepath, 'w') as file_handler:\n",
    "        file_handler.write(\"var t >= 0;\\n\\n\")    \n",
    "        print(\"passed\")\n",
    "\n",
    "        for item in hdr:\n",
    "            file_handler.write(\"{}\\n\".format(item))\n",
    "            print(\"passed\")\n",
    "\n",
    "        file_handler.write(\"\\n\\nminimize obj: t;\\n\\n\")    \n",
    "\n",
    "        for count, item in enumerate (eq, start=1):    \n",
    "            file_handler.write(\"c\" + str(count) + \": \")\n",
    "            file_handler.write(\"{}\\n\".format(item))\n",
    "            file_handler.write(\"\\n\")\n",
    "            print(\"passed\")\n",
    "\n",
    "        file_handler.write(\"solve;\\n\")\n",
    "        file_handler.write(\"display t;\\n\")\n",
    "        file_handler.write(\"end;\\n\")\n",
    "        print(\"File saved to \",output,\"\\n\")\n",
    "except: \n",
    "    print(\"Error: Invalid file name.\\n\")"
   ]
  },
  {
   "cell_type": "code",
   "execution_count": null,
   "metadata": {},
   "outputs": [],
   "source": []
  }
 ],
 "metadata": {
  "kernelspec": {
   "display_name": "Python 3",
   "language": "python",
   "name": "python3"
  },
  "language_info": {
   "codemirror_mode": {
    "name": "ipython",
    "version": 3
   },
   "file_extension": ".py",
   "mimetype": "text/x-python",
   "name": "python",
   "nbconvert_exporter": "python",
   "pygments_lexer": "ipython3",
   "version": "3.7.6"
  }
 },
 "nbformat": 4,
 "nbformat_minor": 2
}
